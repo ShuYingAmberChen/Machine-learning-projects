{
 "cells": [
  {
   "cell_type": "markdown",
   "metadata": {
    "colab_type": "text",
    "id": "6t55qCf3Fsxa"
   },
   "source": [
    "# Project 2: Topic Classification"
   ]
  },
  {
   "cell_type": "markdown",
   "metadata": {
    "colab_type": "text",
    "id": "j9-9G8z4Fsxd"
   },
   "source": [
    "In this project, you'll work with text data from newsgroup posts on a variety of topics. You'll train classifiers to distinguish posts by topics inferred from the text. Whereas with digit classification, where each input is relatively dense (represented as a 28x28 matrix of pixels, many of which are non-zero), here each document is relatively sparse (represented as a bag-of-words). Only a few words of the total vocabulary are active in any given document. The assumption is that a label depends only on the count of words, not their order.\n",
    "\n",
    "The `sklearn` documentation on feature extraction may be useful:\n",
    "http://scikit-learn.org/stable/modules/feature_extraction.html\n",
    "\n",
    "Each problem can be addressed succinctly with the included packages -- please don't add any more. Grading will be based on writing clean, commented code, along with a few short answers.\n",
    "\n",
    "As always, you're welcome to work on the project in groups and discuss ideas on Slack, but <b> please prepare your own write-up with your own code. </b>"
   ]
  },
  {
   "cell_type": "code",
   "execution_count": 1,
   "metadata": {
    "colab": {},
    "colab_type": "code",
    "id": "AUYW83LqFsxd"
   },
   "outputs": [],
   "source": [
    "# This tells matplotlib not to try opening a new window for each plot.\n",
    "%matplotlib inline\n",
    "\n",
    "# General libraries.\n",
    "import re\n",
    "import numpy as np\n",
    "import matplotlib.pyplot as plt\n",
    "\n",
    "# SK-learn libraries for learning.\n",
    "from sklearn.pipeline import Pipeline\n",
    "from sklearn.neighbors import KNeighborsClassifier\n",
    "from sklearn.linear_model import LogisticRegression\n",
    "from sklearn.naive_bayes import BernoulliNB\n",
    "from sklearn.naive_bayes import MultinomialNB\n",
    "\n",
    "# SK-learn libraries for evaluation.\n",
    "from sklearn.metrics import confusion_matrix\n",
    "from sklearn import metrics\n",
    "from sklearn.metrics import classification_report\n",
    "\n",
    "# SK-learn library for importing the newsgroup data.\n",
    "from sklearn.datasets import fetch_20newsgroups\n",
    "\n",
    "# SK-learn libraries for feature extraction from text.\n",
    "from sklearn.feature_extraction.text import *\n",
    "\n",
    "import nltk"
   ]
  },
  {
   "cell_type": "markdown",
   "metadata": {
    "colab_type": "text",
    "id": "_ALNjGgCFsxg"
   },
   "source": [
    "Load the data, stripping out metadata so that only textual features will be used, and restricting documents to 4 specific topics. By default, newsgroups data is split into training and test sets, but here the test set gets further split into development and test sets.  (If you remove the categories argument from the fetch function calls, you'd get documents from all 20 topics.)"
   ]
  },
  {
   "cell_type": "code",
   "execution_count": 2,
   "metadata": {
    "colab": {},
    "colab_type": "code",
    "id": "ecYpcoxaFsxh"
   },
   "outputs": [
    {
     "name": "stdout",
     "output_type": "stream",
     "text": [
      "training label shape: (2034,)\n",
      "dev label shape: (676,)\n",
      "test label shape: (677,)\n",
      "labels names: ['alt.atheism', 'comp.graphics', 'sci.space', 'talk.religion.misc']\n"
     ]
    }
   ],
   "source": [
    "categories = ['alt.atheism', 'talk.religion.misc', 'comp.graphics', 'sci.space']\n",
    "newsgroups_train = fetch_20newsgroups(subset='train',\n",
    "                                      remove=('headers', 'footers', 'quotes'),\n",
    "                                      categories=categories)\n",
    "newsgroups_test  = fetch_20newsgroups(subset='test',\n",
    "                                      remove=('headers', 'footers', 'quotes'),\n",
    "                                      categories=categories)\n",
    "\n",
    "num_test = int(len(newsgroups_test.target) / 2)\n",
    "test_data, test_labels   = newsgroups_test.data[num_test:], newsgroups_test.target[num_test:]\n",
    "dev_data, dev_labels     = newsgroups_test.data[:num_test], newsgroups_test.target[:num_test]\n",
    "train_data, train_labels = newsgroups_train.data, newsgroups_train.target\n",
    "\n",
    "print('training label shape:', train_labels.shape)\n",
    "print('dev label shape:',      dev_labels.shape)\n",
    "print('test label shape:',     test_labels.shape)\n",
    "print('labels names:',         newsgroups_train.target_names)"
   ]
  },
  {
   "cell_type": "markdown",
   "metadata": {
    "colab_type": "text",
    "id": "OHTnOke6Fsxk"
   },
   "source": [
    "### Part 1:\n",
    "\n",
    "For each of the first 5 training examples, print the text of the message along with the label."
   ]
  },
  {
   "cell_type": "code",
   "execution_count": 3,
   "metadata": {
    "colab": {},
    "colab_type": "code",
    "id": "X8zhA06xFsxl"
   },
   "outputs": [
    {
     "name": "stdout",
     "output_type": "stream",
     "text": [
      "\n",
      "Example 1 \n",
      "Label: 1 \n",
      "Topic: comp.graphics \n",
      "Message: Hi,\n",
      "\n",
      "I've noticed that if you only save a model (with all your mapping planes\n",
      "positioned carefully) to a .3DS file that when you reload it after restarting\n",
      "3DS, they are given a default position and orientation.  But if you save\n",
      "to a .PRJ file their positions/orientation are preserved.  Does anyone\n",
      "know why this information is not stored in the .3DS file?  Nothing is\n",
      "explicitly said in the manual about saving texture rules in the .PRJ file. \n",
      "I'd like to be able to read the texture rule information, does anyone have \n",
      "the format for the .PRJ file?\n",
      "\n",
      "Is the .CEL file format available from somewhere?\n",
      "\n",
      "Rych\n",
      "\n",
      "Example 2 \n",
      "Label: 3 \n",
      "Topic: talk.religion.misc \n",
      "Message: \n",
      "\n",
      "Seems to be, barring evidence to the contrary, that Koresh was simply\n",
      "another deranged fanatic who thought it neccessary to take a whole bunch of\n",
      "folks with him, children and all, to satisfy his delusional mania. Jim\n",
      "Jones, circa 1993.\n",
      "\n",
      "\n",
      "Nope - fruitcakes like Koresh have been demonstrating such evil corruption\n",
      "for centuries.\n",
      "\n",
      "Example 3 \n",
      "Label: 2 \n",
      "Topic: sci.space \n",
      "Message: \n",
      " >In article <1993Apr19.020359.26996@sq.sq.com>, msb@sq.sq.com (Mark Brader) \n",
      "\n",
      "MB>                                                             So the\n",
      "MB> 1970 figure seems unlikely to actually be anything but a perijove.\n",
      "\n",
      "JG>Sorry, _perijoves_...I'm not used to talking this language.\n",
      "\n",
      "Couldn't we just say periapsis or apoapsis?\n",
      "\n",
      " \n",
      "\n",
      "Example 4 \n",
      "Label: 0 \n",
      "Topic: alt.atheism \n",
      "Message: I have a request for those who would like to see Charley Wingate\n",
      "respond to the \"Charley Challenges\" (and judging from my e-mail, there\n",
      "appear to be quite a few of you.)  \n",
      "\n",
      "It is clear that Mr. Wingate intends to continue to post tangential or\n",
      "unrelated articles while ingoring the Challenges themselves.  Between\n",
      "the last two re-postings of the Challenges, I noted perhaps a dozen or\n",
      "more posts by Mr. Wingate, none of which answered a single Challenge.  \n",
      "\n",
      "It seems unmistakable to me that Mr. Wingate hopes that the questions\n",
      "will just go away, and he is doing his level best to change the\n",
      "subject.  Given that this seems a rather common net.theist tactic, I\n",
      "would like to suggest that we impress upon him our desire for answers,\n",
      "in the following manner:\n",
      "\n",
      "1. Ignore any future articles by Mr. Wingate that do not address the\n",
      "Challenges, until he answers them or explictly announces that he\n",
      "refuses to do so.\n",
      "\n",
      "--or--\n",
      "\n",
      "2. If you must respond to one of his articles, include within it\n",
      "something similar to the following:\n",
      "\n",
      "    \"Please answer the questions posed to you in the Charley Challenges.\"\n",
      "\n",
      "Really, I'm not looking to humiliate anyone here, I just want some\n",
      "honest answers.  You wouldn't think that honesty would be too much to\n",
      "ask from a devout Christian, would you?  \n",
      "\n",
      "Nevermind, that was a rhetorical question.\n",
      "\n",
      "Example 5 \n",
      "Label: 2 \n",
      "Topic: sci.space \n",
      "Message: AW&ST  had a brief blurb on a Manned Lunar Exploration confernce\n",
      "May 7th  at Crystal City Virginia, under the auspices of AIAA.\n",
      "\n",
      "Does anyone know more about this?  How much, to attend????\n",
      "\n",
      "Anyone want to go?\n"
     ]
    }
   ],
   "source": [
    "def P1(num_examples=5):\n",
    "    ### STUDENT START ###\n",
    "    for i in range(num_examples):\n",
    "        print(\"\\nExample\", i+1, \"\\nLabel:\", train_labels[i], \n",
    "              \"\\nTopic:\", newsgroups_train.target_names[train_labels[i]],\n",
    "              \"\\nMessage:\", train_data[i])\n",
    "    ### STUDENT END ###\n",
    "\n",
    "P1(5)"
   ]
  },
  {
   "cell_type": "markdown",
   "metadata": {
    "colab_type": "text",
    "id": "onfno6uHFsxm"
   },
   "source": [
    "### Part 2:\n",
    "\n",
    "Transform the training data into a matrix of **word** unigram feature vectors.  What is the size of the vocabulary? What is the average number of non-zero features per example?  What is the fraction of the non-zero entries in the matrix?  What are the 0th and last feature strings (in alphabetical order)?<br/>\n",
    "_Use `CountVectorization` and its `.fit_transform` method.  Use `.nnz` and `.shape` attributes, and `.get_feature_names` method._\n",
    "\n",
    "Now transform the training data into a matrix of **word** unigram feature vectors using your own vocabulary with these 4 words: [\"atheism\", \"graphics\", \"space\", \"religion\"].  Confirm the size of the vocabulary. What is the average number of non-zero features per example?<br/>\n",
    "_Use `CountVectorization(vocabulary=...)` and its `.transform` method._\n",
    "\n",
    "Now transform the training data into a matrix of **character** bigram and trigram feature vectors.  What is the size of the vocabulary?<br/>\n",
    "_Use `CountVectorization(analyzer=..., ngram_range=...)` and its `.fit_transform` method._\n",
    "\n",
    "Now transform the training data into a matrix of **word** unigram feature vectors and prune words that appear in fewer than 10 documents.  What is the size of the vocabulary?<br/>\n",
    "_Use `CountVectorization(min_df=...)` and its `.fit_transform` method._\n",
    "\n",
    "Now again transform the training data into a matrix of **word** unigram feature vectors. What is the fraction of words in the development vocabulary that is missing from the training vocabulary?<br/>\n",
    "_Hint: Build vocabularies for both train and dev and look at the size of the difference._\n",
    "\n",
    "Notes:\n",
    "* `.fit_transform` makes 2 passes through the data: first it computes the vocabulary (\"fit\"), second it converts the raw text into feature vectors using the vocabulary (\"transform\").\n",
    "* `.fit_transform` and `.transform` return sparse matrix objects.  See about them at http://docs.scipy.org/doc/scipy-0.14.0/reference/generated/scipy.sparse.csr_matrix.html.  "
   ]
  },
  {
   "cell_type": "code",
   "execution_count": 4,
   "metadata": {
    "colab": {},
    "colab_type": "code",
    "id": "LyVwk5RvFsxn"
   },
   "outputs": [
    {
     "name": "stdout",
     "output_type": "stream",
     "text": [
      "The word unigram feature vectorizer:\n",
      "Size of the vocabulary: 26879\n",
      "Average number of non-zero features: 96\n",
      "Fraction of the non-zero entries: 0.36%\n",
      "The 0th feature string: 00\n",
      "The last feature string: zyxel\n",
      "\n",
      "The word unigram feature vectorizer with a vocabulary of 4 words:\n",
      "Size of the vocabulary: 4\n",
      "Average number of non-zero features: 0.27\n",
      "\n",
      "The character bigram and trigram feature vectorizer\n",
      "Size of the vocabulary: 35478\n",
      "\n",
      "The word unigram feature vectorizer with a minimum df of 10:\n",
      "Size of the vocabulary: 3064\n",
      "\n",
      "Using the original word unigram feature vectorizer:\n",
      "Size of the difference between training and development vocabularies:  4027\n",
      "Fraction of words in the development vocabulary that is missing from the training vocabulary: 24.79%\n"
     ]
    }
   ],
   "source": [
    "def P2():\n",
    "    ### STUDENT START ###\n",
    "    # word unigram feature vectorizer\n",
    "    vectorizer = CountVectorizer()\n",
    "    matrix = vectorizer.fit_transform(train_data)\n",
    "    feature_names = vectorizer.get_feature_names()\n",
    "    print(\"The word unigram feature vectorizer:\")\n",
    "    print(\"Size of the vocabulary:\", len(feature_names))\n",
    "    print(\"Average number of non-zero features: %i\" % (matrix.nnz / len(train_data)))\n",
    "    print(\"Fraction of the non-zero entries: %.2f%%\" % (100.0 * matrix.nnz / (matrix.shape[0] * matrix.shape[1])))\n",
    "    print(\"The 0th feature string:\", feature_names[0])\n",
    "    print(\"The last feature string:\", feature_names[len(feature_names)-1])\n",
    "    \n",
    "    # word unigram feature vectorizer with a vocabulary of 4 words\n",
    "    vectorizer2 = CountVectorizer(vocabulary = [\"atheism\", \"graphics\", \"space\", \"religion\"])\n",
    "    matrix2 = vectorizer2.fit_transform(train_data)\n",
    "    feature_names2 = vectorizer2.get_feature_names()\n",
    "    print(\"\\nThe word unigram feature vectorizer with a vocabulary of 4 words:\")\n",
    "    print(\"Size of the vocabulary:\", len(feature_names2))\n",
    "    print(\"Average number of non-zero features: %.2f\" % (matrix2.nnz / len(train_data)))\n",
    "    \n",
    "    # character bigram and trigram feature vectorizer\n",
    "    char_vectorizer = CountVectorizer(analyzer = 'char', ngram_range = (2, 3))\n",
    "    cv_matrix = char_vectorizer.fit_transform(train_data)\n",
    "    cv_feature_names = char_vectorizer.get_feature_names()\n",
    "    print(\"\\nThe character bigram and trigram feature vectorizer\")\n",
    "    print(\"Size of the vocabulary:\", len(cv_feature_names))\n",
    "    \n",
    "    # create a word unigram feature vectorizer and prune words that appears in fewer than 10 docs\n",
    "    mindf_vectorizer = CountVectorizer(min_df = 10)\n",
    "    mindf_matrix = mindf_vectorizer.fit_transform(train_data)\n",
    "    mindf_feature_names = mindf_vectorizer.get_feature_names()\n",
    "    print(\"\\nThe word unigram feature vectorizer with a minimum df of 10:\")\n",
    "    print(\"Size of the vocabulary:\", len(mindf_feature_names))\n",
    "    \n",
    "    # word unigram feature vectorizer\n",
    "    dev_matrix = vectorizer.fit_transform(dev_data)\n",
    "    feature_names_dev = vectorizer.get_feature_names()\n",
    "    \n",
    "    # find words in training set but missing in dev set\n",
    "    diff = set(feature_names_dev).difference(feature_names)\n",
    "    print(\"\\nUsing the original word unigram feature vectorizer:\")\n",
    "    print(\"Size of the difference between training and development vocabularies: \", len(diff))\n",
    "    print(\"Fraction of words in the development vocabulary that is missing from the training vocabulary: %.2f%%\" %\n",
    "          (len(diff) / len(feature_names_dev)*100))\n",
    "    ### STUDENT END ###\n",
    "\n",
    "P2()"
   ]
  },
  {
   "cell_type": "markdown",
   "metadata": {
    "colab_type": "text",
    "id": "ydjkRh6LFsxp"
   },
   "source": [
    "### Part 3:\n",
    "\n",
    "Transform the training and development data to matrices of word unigram feature vectors.\n",
    "\n",
    "1. Produce several k-Nearest Neigbors models by varying k, including one with k set to optimize f1 score.  For each model, show the k value and f1 score.\n",
    "1. Produce several Naive Bayes models by varying smoothing (alpha), including one with alpha set approximately to optimize f1 score.  For each model, show the alpha value and f1 score.\n",
    "1. Produce several Logistic Regression models by varying L2 regularization strength (C), including one with C set approximately to optimize f1 score.  For each model, show the C value, f1 score, and sum of squared weights for each topic.\n",
    "\n",
    "* Why doesn't k-Nearest Neighbors work well for this problem?\n",
    "* Why doesn't Logistic Regression work as well as Naive Bayes does?\n",
    "* What is the relationship between logistic regression's sum of squared weights vs. C value?\n",
    "\n",
    "Notes:\n",
    "* Train on the transformed training data.\n",
    "* Evaluate on the transformed development data.\n",
    "* You can use `CountVectorizer` and its `.fit_transform` and `.transform` methods to transform data.\n",
    "* You can use `KNeighborsClassifier(...)` to produce a k-Nearest Neighbors model.\n",
    "* You can use `MultinomialNB(...)` to produce a Naive Bayes model.\n",
    "* You can use `LogisticRegression(C=..., solver=\"liblinear\", multi_class=\"auto\")` to produce a Logistic Regression model.\n",
    "* You can use `LogisticRegression`'s `.coef_` method to get weights for each topic.\n",
    "* You can use `metrics.f1_score(..., average=\"weighted\")` to compute f1 score."
   ]
  },
  {
   "cell_type": "code",
   "execution_count": 5,
   "metadata": {
    "colab": {},
    "colab_type": "code",
    "id": "VvhpODdWFsxp"
   },
   "outputs": [
    {
     "name": "stdout",
     "output_type": "stream",
     "text": [
      "F1-score for 1-NN classifier model is 0.3805.\n",
      "F1-score for 3-NN classifier model is 0.4084.\n",
      "F1-score for 5-NN classifier model is 0.4288.\n",
      "F1-score for 7-NN classifier model is 0.4505.\n",
      "F1-score for 9-NN classifier model is 0.4366.\n",
      "F1-score for 11-NN classifier model is 0.4266.\n",
      "F1-score for 15-NN classifier model is 0.4326.\n",
      "F1-score for 17-NN classifier model is 0.4486.\n",
      "F1-score for 20-NN classifier model is 0.4243.\n",
      "F1-score for 23-NN classifier model is 0.4081.\n",
      "F1-score for 25-NN classifier model is 0.4161.\n",
      "F1-score for 27-NN classifier model is 0.4245.\n",
      "F1-score for 30-NN classifier model is 0.4319.\n",
      "F1-score for Multinomial Naive Bayes model with alpha 1e-10 is 0.7472.\n",
      "F1-score for Multinomial Naive Bayes model with alpha 0.0001 is 0.7628.\n",
      "F1-score for Multinomial Naive Bayes model with alpha 0.001 is 0.7703.\n",
      "F1-score for Multinomial Naive Bayes model with alpha 0.01 is 0.7752.\n",
      "F1-score for Multinomial Naive Bayes model with alpha 0.1 is 0.7903.\n",
      "F1-score for Multinomial Naive Bayes model with alpha 0.5 is 0.7863.\n",
      "F1-score for Multinomial Naive Bayes model with alpha 1.0 is 0.7777.\n",
      "F1-score for Multinomial Naive Bayes model with alpha 2.0 is 0.7690.\n",
      "F1-score for Multinomial Naive Bayes model with alpha 10.0 is 0.6675.\n",
      "\n",
      "F1-score for Logistic Regression Model with C = 0.001 is 0.6193;\n",
      "and sum of squared weights for each topic is:  [0.16509345 0.20095275 0.18067094 0.18724278]\n",
      "\n",
      "F1-score for Logistic Regression Model with C = 0.01 is 0.6647;\n",
      "and sum of squared weights for each topic is:  [2.54149597 2.93970937 2.86246884 2.25002867]\n",
      "\n",
      "F1-score for Logistic Regression Model with C = 0.5 is 0.7085;\n",
      "and sum of squared weights for each topic is:  [102.60222594  83.1201744   99.01364429  88.98434638]\n",
      "\n",
      "F1-score for Logistic Regression Model with C = 1.0 is 0.6944;\n",
      "and sum of squared weights for each topic is:  [166.96406144 130.8904599  157.88282512 145.71125673]\n",
      "\n",
      "F1-score for Logistic Regression Model with C = 2.0 is 0.6940;\n",
      "and sum of squared weights for each topic is:  [257.63081206 197.94301097 239.9678541  226.71318397]\n",
      "\n",
      "F1-score for Logistic Regression Model with C = 5.0 is 0.6910;\n",
      "and sum of squared weights for each topic is:  [422.83458253 322.34176754 389.83079714 378.020703  ]\n",
      "\n",
      "F1-score for Logistic Regression Model with C = 10.0 is 0.6864;\n",
      "and sum of squared weights for each topic is:  [584.53080597 448.08852555 539.41970751 530.78234875]\n",
      "\n",
      "F1-score for Logistic Regression Model with C = 50.0 is 0.6827;\n",
      "and sum of squared weights for each topic is:  [1111.21889972  855.79560529 1027.3005308  1035.89938852]\n",
      "\n",
      "F1-score for Logistic Regression Model with C = 100.0 is 0.6812;\n",
      "and sum of squared weights for each topic is:  [1395.62977809 1081.89934904 1292.63450956 1323.09517193]\n"
     ]
    }
   ],
   "source": [
    "def P3():\n",
    "    ### STUDENT START ###\n",
    "    vectorizer = CountVectorizer()\n",
    "    matrix = vectorizer.fit_transform(train_data)\n",
    "    dev_matrix = vectorizer.transform(dev_data)\n",
    "    \n",
    "    # 1) KNN models\n",
    "    k_values = [1, 3, 5, 7, 9, 11, 15, 17, 20, 23, 25, 27, 30]\n",
    "    for k in k_values:\n",
    "        KNN_model = KNeighborsClassifier(n_neighbors = k)\n",
    "        KNN_model.fit(matrix, train_labels)\n",
    "        print(\"F1-score for %i-NN classifier model is %.4f.\" % \n",
    "              (k, metrics.f1_score(dev_labels, KNN_model.predict(dev_matrix), average='weighted')))\n",
    "    \n",
    "    # 2) Naive Bayes models\n",
    "    alpha_values = [1.0e-10, 0.0001, 0.001, 0.01, 0.1, 0.5, 1.0, 2.0, 10.0]\n",
    "    for alpha in alpha_values:\n",
    "        MNB_model = MultinomialNB(alpha = alpha)\n",
    "        MNB_model.fit(matrix, train_labels)\n",
    "        print(\"F1-score for Multinomial Naive Bayes model with alpha %r is %.4f.\" % \n",
    "              (alpha, metrics.f1_score(dev_labels, MNB_model.predict(dev_matrix), average='weighted')))\n",
    "    \n",
    "    # 3) Logistics regression models\n",
    "    C_values = [0.001, 0.01, 0.5, 1.0, 2.0, 5.0, 10.0, 50.0, 100.0]\n",
    "    for C in C_values:\n",
    "        LogReg_model = LogisticRegression(C = C, solver = \"liblinear\", multi_class=\"auto\")\n",
    "        LogReg_model.fit(matrix, train_labels)\n",
    "        print(\"\\nF1-score for Logistic Regression Model with C = %r is %.4f;\" % \n",
    "              (C, metrics.f1_score(dev_labels, LogReg_model.predict(dev_matrix), average='weighted')))\n",
    "        print(\"and sum of squared weights for each topic is: \", np.sum(LogReg_model.coef_**2, axis = 1))\n",
    "    ### STUDENT END ###\n",
    "\n",
    "P3()"
   ]
  },
  {
   "cell_type": "markdown",
   "metadata": {
    "colab_type": "text",
    "id": "jWtXwAlOFsxr"
   },
   "source": [
    "**ANSWER:**\n",
    "\n",
    "**1) The optimal model is 7-NN Model which has a F1 score of 0.4505.**\n",
    "\n",
    "**2) The optimal Multinomial Naive Bayes model uses alpha 0.1 and has a F1 score of 0.7903.**\n",
    "\n",
    "**3) The optimal Logistic regression model uses a L2 regularization strength of 0.5 and has a F1 score of 0.7085.**\n",
    "\n",
    "**4) K-NN model does not work well for this problem because of three reasons:**\n",
    "\n",
    "    - The accuracy of KNN model may suffer from mismatch of class distribution in the dev data set vs the training data set. If a certain class shows up very frequently in the training set, it could dominate the majority voting of the new example. If this class appears much less frequently in the dev set, the model's accuracy will be suffered.\n",
    "    \n",
    "    - The accuracy of KNN model can be suffered from curse of dimensionality. If the dimensionality of the space is large, the distance metrics lose some meaning as there is little difference between the nearest and farthest neighbor.\n",
    "    \n",
    "    - There may be many words overlapping among classes. This issue could detriment the distance metircs which KNN-model replies on for prediction\n",
    "    \n",
    "**5) Logistics regression does not work well when the number of observations are less than the number of features. It may perform better than Naive Bayes model if the sample is larger.**\n",
    "\n",
    "**6) C-value is the inverse of regularization strength. A small C-value means a strong regularization strength and hence a small sum of squared weights. When C-value increases, the sum of squared weights for each topic increases as well.**"
   ]
  },
  {
   "cell_type": "markdown",
   "metadata": {
    "colab_type": "text",
    "id": "dGEjsm_uFsxr"
   },
   "source": [
    "### Part 4:\n",
    "\n",
    "Transform the data to a matrix of word **bigram** feature vectors.  Produce a Logistic Regression model.  For each topic, find the 5 features with the largest weights (that's 20 features in total).  Show a 20 row (features) x 4 column (topics) table of the weights.\n",
    "\n",
    "Do you see any surprising features in this table?\n",
    "\n",
    "Notes:\n",
    "* Train on the transformed training data.\n",
    "* You can use `CountVectorizer` and its `.fit_transform` method to transform data.\n",
    "* You can use `LogisticRegression(C=0.5, solver=\"liblinear\", multi_class=\"auto\")` to produce a Logistic Regression model.\n",
    "* You can use `LogisticRegression`'s `.coef_` method to get weights for each topic.\n",
    "* You can use `np.argsort` to get indices sorted by element value. "
   ]
  },
  {
   "cell_type": "code",
   "execution_count": 6,
   "metadata": {
    "colab": {},
    "colab_type": "code",
    "id": "WN51Nv4fFsxs"
   },
   "outputs": [
    {
     "name": "stdout",
     "output_type": "stream",
     "text": [
      "alt.atheism\n",
      "['are you' 'you are' 'was just' 'cheers kent' 'claim that']\n",
      "comp.graphics\n",
      "['is there' 'out there' 'comp graphics' 'in advance' 'looking for']\n",
      "sci.space\n",
      "['it was' 'and such' 'sci space' 'the moon' 'the space']\n",
      "talk.religion.misc\n",
      "['of jesus' 'but he' 'ignorance is' 'cheers kent' 'the fbi']\n",
      "                             alt.atheism       comp.graphics           sci.space  talk.religion.misc\n",
      "             are you             0.44695            -0.24826            -0.09713            -0.30562\n",
      "             you are             0.47274            -0.27991            -0.48131             0.02838\n",
      "            was just             0.48205            -0.13142            -0.12891            -0.22746\n",
      "         cheers kent             0.55572            -0.69791            -0.66376             0.53481\n",
      "          claim that             0.60555            -0.19904            -0.27434            -0.14037\n",
      "            is there            -0.34088             0.75498            -0.46824            -0.25709\n",
      "           out there             -0.2748             0.75868            -0.47907            -0.27708\n",
      "       comp graphics            -0.29217              0.8012            -0.37093            -0.28519\n",
      "          in advance            -0.45935             0.83257             -0.4385            -0.41845\n",
      "         looking for            -0.63034             1.10837            -0.49998            -0.57186\n",
      "              it was            -0.20303            -0.30967             0.52537            -0.31356\n",
      "            and such            -0.20427            -0.33752             0.59051             -0.2182\n",
      "           sci space            -0.25801            -0.32915             0.62105            -0.22125\n",
      "            the moon            -0.35056            -0.49271               0.831             -0.2138\n",
      "           the space            -0.26819            -0.53009             0.87107            -0.27384\n",
      "            of jesus            -0.09191            -0.17376            -0.21241             0.42374\n",
      "              but he            -0.19002            -0.21686             -0.1374             0.49187\n",
      "        ignorance is            -0.15801            -0.17107            -0.13957             0.50431\n",
      "         cheers kent             0.55572            -0.69791            -0.66376             0.53481\n",
      "             the fbi            -0.13197            -0.21135            -0.29528             0.55199\n"
     ]
    }
   ],
   "source": [
    "def P4():\n",
    "    ### STUDENT START ###\n",
    "    bigram_vectorizer = CountVectorizer(ngram_range = (2, 2))\n",
    "    train_matrix = bigram_vectorizer.fit_transform(train_data)\n",
    "    dev_matrix = bigram_vectorizer.transform(dev_data)\n",
    "    feature_names = np.array(bigram_vectorizer.get_feature_names())\n",
    "    \n",
    "    LogReg_model = LogisticRegression(C = 0.5, solver = \"liblinear\", multi_class=\"auto\")\n",
    "    LogReg_model.fit(train_matrix, train_labels)\n",
    "    indices = np.argsort(LogReg_model.coef_, axis = 1)   #absolute or largest positive?\n",
    "    num_class = np.shape(LogReg_model.coef_)[0]\n",
    "    \n",
    "    # Top 5 features with the largest weights\n",
    "    top5features = np.empty(num_class*5, dtype= 'object')\n",
    "    weights = np.empty([20, num_class])\n",
    "    \n",
    "    for i in range(num_class):\n",
    "        print(newsgroups_train.target_names[i])\n",
    "        for j, index in enumerate(indices[i, -5:]):\n",
    "            top5features[i*5+j] = feature_names[index]\n",
    "            weights[i*5+j,:] = np.transpose(np.round(LogReg_model.coef_[:, index], 5))\n",
    "        print(top5features[i*5:i*5+5])\n",
    "    \n",
    "    row_format = \"{:>20}\" * (num_class + 1)\n",
    "    print(row_format.format(\"\", *newsgroups_train.target_names))\n",
    "    for feature_name, weight in zip(top5features, weights):\n",
    "        print(row_format.format(feature_name, *weight))\n",
    "    \n",
    "    ### STUDENT END ###\n",
    "\n",
    "P4()"
   ]
  },
  {
   "cell_type": "markdown",
   "metadata": {
    "colab_type": "text",
    "id": "cY67F-tXFsxt"
   },
   "source": [
    "ANSWER:"
   ]
  },
  {
   "cell_type": "markdown",
   "metadata": {
    "colab_type": "text",
    "id": "rVWhSJHHFsxu"
   },
   "source": [
    "### Part 5:\n",
    "\n",
    "To improve generalization, it is common to try preprocessing text in various ways before splitting into words. For example, you could try transforming strings to lower case, replacing sequences of numbers with single tokens, removing various non-letter characters, and shortening long words.\n",
    "\n",
    "Produce a Logistic Regression model (with no preprocessing of text).  Evaluate and show its f1 score and size of the dictionary.\n",
    "\n",
    "Produce an improved Logistic Regression model by preprocessing the text.  Evaluate and show its f1 score and size of the vocabulary.  Try for an improvement in f1 score of at least 0.02.\n",
    "\n",
    "How much did the improved model reduce the vocabulary size?\n",
    "\n",
    "Notes:\n",
    "* Train on the transformed training data.\n",
    "* Evaluate on the transformed development data.\n",
    "* You can use `CountVectorizer(preprocessor=...)` to preprocess strings with your own custom-defined function.\n",
    "* `CountVectorizer` default is to preprocess strings to lower case.\n",
    "* You can use `LogisticRegression(C=0.5, solver=\"liblinear\", multi_class=\"auto\")` to produce a logistic regression model.\n",
    "* You can use `metrics.f1_score(..., average=\"weighted\")` to compute f1 score.\n",
    "* If you're not already familiar with regular expressions for manipulating strings, see https://docs.python.org/2/library/re.html, and re.sub() in particular."
   ]
  },
  {
   "cell_type": "code",
   "execution_count": 7,
   "metadata": {},
   "outputs": [],
   "source": [
    "# stopWords = ['and', 'hers', 'but', 'again', 'there', 'about', 'once', \n",
    "#                'out', 'very', 'having', 'with', 'they', 'own', 'an', 'be', 'some', 'for', 'do', \n",
    "#                'its', 'yours', 'such', 'into', 'of', 'most', 'other', 'off', 'is', 's', 'am', 'or',\n",
    "#                'who', 'as', 'from', 'him', 'each', 'the', 'until', 'below', 'are', 'we', 'these',\n",
    "#                'your', 'his', 'don', 'nor', 'me', 'were', 'her', 'more', 'this', 'down',\n",
    "#                'should', 'our', 'their', 'while', 'both', 'up', 'to', 'ours', 'had', 'she', 'all', \n",
    "#                'no', 'when', 'at', 'any', 'before', 'them', 'same', 'and', 'been', 'have', 'in', 'will', 'on', \n",
    "#                'does', 'then', 'that', 'because', 'what', 'over', 'why', 'so', 'can', 'did', \n",
    "#                'not', 'now', 'he', 'you', 'has', 'just', 'where', 'too', 'only',\n",
    "#                'which', 'those', 'i', 'few', 'whom', 't', 'being', 'if', 'theirs', 'my', \n",
    "#                'a', 'by', 'doing', 'it', 'how', 'was', 'here', 'than']\n",
    "#     stopWords = ['ourselves', 'and', 'hers', 'between', 'yourself', 'but', 'again', 'there', 'about', 'once', \n",
    "#                'during', 'out', 'very', 'having', 'with', 'they', 'own', 'an', 'be', 'some', 'for', 'do', \n",
    "#                'its', 'yours', 'such', 'into', 'of', 'most', 'itself', 'other', 'off', 'is', 's', 'am', 'or',\n",
    "#                'who', 'as', 'from', 'him', 'each', 'the', 'themselves', 'until', 'below', 'are', 'we', 'these',\n",
    "#                'your', 'his', 'through', 'don', 'nor', 'me', 'were', 'her', 'more', 'himself', 'this', 'down',\n",
    "#                'should', 'our', 'their', 'while', 'above', 'both', 'up', 'to', 'ours', 'had', 'she', 'all', \n",
    "#                'no', 'when', 'at', 'any', 'before', 'them', 'same', 'and', 'been', 'have', 'in', 'will', 'on', \n",
    "#                'does', 'yourselves', 'then', 'that', 'because', 'what', 'over', 'why', 'so', 'can', 'did', \n",
    "#                'not', 'now', 'under', 'he', 'you', 'herself', 'has', 'just', 'where', 'too', 'only', 'myself',\n",
    "#                'which', 'those', 'i', 'after', 'few', 'whom', 't', 'being', 'if', 'theirs', 'my', 'against', \n",
    "#                'a', 'by', 'doing', 'it', 'how', 'further', 'was', 'here', 'than']\n",
    "    \n",
    "#         stopWords = ['and', 'hers', 'between', 'but', 'again', 'there', 'about', 'once', \n",
    "#                'during', 'out', 'very', 'having', 'with', 'they', 'own', 'an', 'be', 'some', 'for', 'do', \n",
    "#                'its', 'yours', 'such', 'into', 'of', 'most', 'other', 'off', 'is', 's', 'am', 'or',\n",
    "#                'who', 'as', 'from', 'him', 'each', 'the', 'until', 'below', 'are', 'we', 'these',\n",
    "#                'your', 'his', 'through', 'don', 'nor', 'me', 'were', 'her', 'more', 'himself', 'this', 'down',\n",
    "#                'should', 'our', 'their', 'while', 'above', 'both', 'up', 'to', 'ours', 'had', 'she', 'all', \n",
    "#                'no', 'when', 'at', 'any', 'before', 'them', 'same', 'and', 'been', 'have', 'in', 'will', 'on', \n",
    "#                'does', 'then', 'that', 'because', 'what', 'over', 'why', 'so', 'can', 'did', \n",
    "#                'not', 'now', 'under', 'he', 'you', 'herself', 'has', 'just', 'where', 'too', 'only',\n",
    "#                'which', 'those', 'i', 'after', 'few', 'whom', 't', 'being', 'if', 'theirs', 'my', 'against', \n",
    "#                'a', 'by', 'doing', 'it', 'how', 'further', 'was', 'here', 'than']"
   ]
  },
  {
   "cell_type": "code",
   "execution_count": 8,
   "metadata": {
    "colab": {},
    "colab_type": "code",
    "id": "l7gS3cGpFsxv"
   },
   "outputs": [
    {
     "name": "stdout",
     "output_type": "stream",
     "text": [
      "Vocabulary size:  26879\n",
      "F1-score is 0.7085.\n",
      "Vocabulary size:  17356\n",
      "F1-score is 0.7296.\n"
     ]
    }
   ],
   "source": [
    "def better_preprocessor(s):\n",
    "    ### STUDENT START ###\n",
    "    \n",
    "    new_s = s.lower()\n",
    "    new_s = re.sub(r\"[^a-z]\", \" \", new_s)\n",
    "\n",
    "    stopWords = ['and', 'hers', 'between', 'but', 'again', 'there', 'about', 'once', \n",
    "               'during', 'out', 'very', 'having', 'with', 'they', 'own', 'an', 'be', 'some', 'for', 'do', \n",
    "               'its', 'yours', 'such', 'into', 'of', 'most', 'other', 'off', 'is', 's', 'am', 'or',\n",
    "               'who', 'as', 'from', 'him', 'each', 'the', 'until', 'below', 'are', 'we', 'these',\n",
    "               'your', 'his', 'through', 'don', 'nor', 'me', 'were', 'her', 'more', 'himself', 'this', 'down',\n",
    "               'should', 'our', 'their', 'while', 'above', 'both', 'up', 'to', 'ours', 'had', 'she', 'all', \n",
    "               'no', 'when', 'at', 'any', 'before', 'them', 'same', 'and', 'been', 'have', 'in', 'will', 'on', \n",
    "               'does', 'then', 'that', 'because', 'what', 'over', 'why', 'so', 'can', 'did', \n",
    "               'not', 'now', 'under', 'he', 'you', 'herself', 'has', 'just', 'where', 'too', 'only',\n",
    "               'which', 'those', 'i', 'after', 'few', 'whom', 't', 'being', 'if', 'theirs', 'my', 'against', \n",
    "               'a', 'by', 'doing', 'it', 'how', 'further', 'was', 'here', 'than']\n",
    "    new_s = \" \".join([word for word in new_s.split() if word not in stopWords])\n",
    "    #new_s = re.sub(r\"\\b[\\w']{1,2}\\b\", \" \",new_s)\n",
    "    #new_s = re.sub(r\"\\s{2,}\", \" \", new_s)\n",
    "    \n",
    "    truncated_s = \"\"\n",
    "    for word in new_s.split():\n",
    "        #word = re.sub(\"s$\", \"\", word)\n",
    "        #word = re.sub(\"ing$\", \"\", word)\n",
    "        #word = re.sub(\"ed$\", \"\", word)\n",
    "        #word = re.sub(\"ion$\", \"\", word)\n",
    "        if len(word) > 6:\n",
    "            word = word[:6]\n",
    "        truncated_s += word + \" \"\n",
    "\n",
    "    return truncated_s\n",
    "    ### STUDENT END ###\n",
    "#text = \"There is a Lot 325 2 S2anded sands ed landed\"\n",
    "#print(better_preprocessor(text))\n",
    "def P5():\n",
    "    ### STUDENT START ###\n",
    "    vectorizer = CountVectorizer()\n",
    "    train_matrix = vectorizer.fit_transform(train_data)\n",
    "    dev_matrix = vectorizer.transform(dev_data)\n",
    "    feature_names = np.array(vectorizer.get_feature_names())\n",
    "    \n",
    "    LogReg_model = LogisticRegression(C = 0.5, solver = \"liblinear\", multi_class=\"auto\")\n",
    "    LogReg_model.fit(train_matrix, train_labels)\n",
    "    print(\"Vocabulary size: \", len(feature_names))\n",
    "    print(\"F1-score is %.4f.\" % metrics.f1_score(dev_labels, LogReg_model.predict(dev_matrix), average='weighted'))\n",
    "    \n",
    "    \n",
    "    vectorizer = CountVectorizer(preprocessor=better_preprocessor)\n",
    "    train_matrix = vectorizer.fit_transform(train_data)\n",
    "    dev_matrix = vectorizer.transform(dev_data)\n",
    "    feature_names = np.array(vectorizer.get_feature_names())\n",
    "    \n",
    "    LogReg_model = LogisticRegression(C = 0.5, solver = \"liblinear\", multi_class=\"auto\")\n",
    "    LogReg_model.fit(train_matrix, train_labels)\n",
    "    print(\"Vocabulary size: \", len(feature_names))\n",
    "    print(\"F1-score is %.4f.\" % metrics.f1_score(dev_labels, LogReg_model.predict(dev_matrix), average='weighted'))\n",
    "    ### STUDENT END ###\n",
    "\n",
    "P5()"
   ]
  },
  {
   "cell_type": "markdown",
   "metadata": {
    "colab_type": "text",
    "id": "Uy-WITbNFsxw"
   },
   "source": [
    "### Part 6:\n",
    "\n",
    "The idea of regularization is to avoid learning very large weights (which are likely to fit the training data, but not generalize well) by adding a penalty to the total size of the learned weights. Logistic regression seeks the set of weights that minimizes errors in the training data AND has a small total size. The default L2 regularization computes this size as the sum of the squared weights (as in Part 3 above). L1 regularization computes this size as the sum of the absolute values of the weights. Whereas L2 regularization makes all the weights relatively small, L1 regularization drives many of the weights to 0, effectively removing unimportant features.\n",
    "\n",
    "For several L1 regularization strengths ...<br/>\n",
    "* Produce a Logistic Regression model using the **L1** regularization strength.  Reduce the vocabulary to only those features that have at least one non-zero weight among the four categories.  Produce a new Logistic Regression model using the reduced vocabulary and **L2** regularization strength of 0.5.  Evaluate and show the L1 regularization strength, vocabulary size, and f1 score associated with the new model.\n",
    "\n",
    "Show a plot of f1 score vs. log vocabulary size.  Each point corresponds to a specific L1 regularization strength used to reduce the vocabulary.\n",
    "\n",
    "How does performance of the models based on reduced vocabularies compare to that of a model based on the full vocabulary?\n",
    "\n",
    "Notes:\n",
    "* Train on the transformed training data.\n",
    "* Evaluate on the transformed development data.\n",
    "* You can use `LogisticRegression(..., penalty=\"l1\")` to produce a logistic regression model using L1 regularization.\n",
    "* You can use `LogisticRegression(..., penalty=\"l2\")` to produce a logistic regression model using L2 regularization.\n",
    "* You can use `LogisticRegression(..., tol=0.015)` to produce a logistic regression model using relaxed gradient descent convergence criteria.  The gradient descent code that trains the logistic regression model sometimes has trouble converging with extreme settings of the C parameter. Relax the convergence criteria by setting tol=.015 (the default is .0001)."
   ]
  },
  {
   "cell_type": "code",
   "execution_count": 9,
   "metadata": {
    "colab": {},
    "colab_type": "code",
    "id": "l6ho31SrFsxx"
   },
   "outputs": [
    {
     "name": "stderr",
     "output_type": "stream",
     "text": [
      "C:\\Users\\Ambe Chen\\Anaconda3\\lib\\site-packages\\sklearn\\svm\\base.py:929: ConvergenceWarning: Liblinear failed to converge, increase the number of iterations.\n",
      "  \"the number of iterations.\", ConvergenceWarning)\n"
     ]
    },
    {
     "name": "stdout",
     "output_type": "stream",
     "text": [
      "                   C     Vocabulary Size            Accuracy\n",
      "               0.001                   3             0.33357\n",
      "                0.01                  17             0.46385\n",
      "                 0.5                 723             0.67769\n",
      "                 1.0                1066             0.68616\n",
      "                 2.0                2004             0.69121\n",
      "                 5.0                2668             0.69314\n",
      "                10.0                3364             0.70245\n",
      "                50.0                6054             0.69806\n",
      "               100.0                7816             0.68355\n"
     ]
    },
    {
     "data": {
      "image/png": "[encoded data removed]",
      "text/plain": [
       "<Figure size 432x288 with 1 Axes>"
      ]
     },
     "metadata": {
      "needs_background": "light"
     },
     "output_type": "display_data"
    }
   ],
   "source": [
    "def P6():\n",
    "    # Keep this random seed here to make comparison easier.\n",
    "    np.random.seed(0)\n",
    "    \n",
    "    ### STUDENT START ###\n",
    "    vectorizer = CountVectorizer()\n",
    "    train_matrix = vectorizer.fit_transform(train_data)\n",
    "    dev_matrix = vectorizer.transform(dev_data)\n",
    "    feature_names = np.array(vectorizer.get_feature_names())\n",
    "    \n",
    "    C_l1_list = [0.001, 0.01, 0.5, 1.0, 2.0, 5.0, 10.0, 50.0, 100.0]\n",
    "    accuracies = []\n",
    "    vocab_sizes = []\n",
    "    for c in C_l1_list:\n",
    "        LogReg_L1 = LogisticRegression(C = c, solver = \"liblinear\", multi_class=\"auto\", penalty = \"l1\", tol = 0.015)\n",
    "        LogReg_L1.fit(train_matrix, train_labels)\n",
    "        sumwgt_per_features = np.sum(LogReg_L1.coef_, axis = 0)\n",
    "        nonzero_sum_wgt_idx = np.nonzero(sumwgt_per_features)\n",
    "        reduced_vocab = feature_names[nonzero_sum_wgt_idx]\n",
    "\n",
    "        vectorizer2 = CountVectorizer(vocabulary=reduced_vocab)\n",
    "        train_matrix2 = vectorizer2.fit_transform(train_data)\n",
    "        dev_matrix2 = vectorizer2.transform(dev_data)\n",
    "        LogReg_L2 = LogisticRegression(C = 0.5, solver = \"liblinear\", multi_class=\"auto\", penalty = \"l2\", tol = 0.015)\n",
    "        LogReg_L2.fit(train_matrix2, train_labels)\n",
    "        \n",
    "        accuracies.append(metrics.f1_score(dev_labels, LogReg_L2.predict(dev_matrix2), average='weighted'))\n",
    "        vocab_sizes.append(len(reduced_vocab))\n",
    "        \n",
    "    row_format = \"{:>20}\" * 3\n",
    "    print(row_format.format(\"C\", \"Vocabulary Size\", \"Accuracy\"))\n",
    "    for c, size, accuracy in zip(C_l1_list, vocab_sizes, accuracies):\n",
    "        print(row_format.format(c, size, np.round(accuracy,5)))\n",
    "    \n",
    "    plt.figure()\n",
    "    plt.plot(np.log(vocab_sizes), accuracies)\n",
    "    plt.xlabel(\"Log Vocabulary Size\")\n",
    "    plt.ylabel(\"Accuracy of Model using L2 regularization\")\n",
    "    plt.title(\"Accuracy vs Log Vocabulary Size \\nat different values of L1 regularization\")\n",
    "    ### STUDENT END ###\n",
    "\n",
    "P6()"
   ]
  },
  {
   "cell_type": "markdown",
   "metadata": {
    "colab_type": "text",
    "id": "bZmIPwExFsx1"
   },
   "source": [
    "ANSWER: Reduced vocabulary size is big enough, the accuracy performs similar to that of a model based on full vocabulary"
   ]
  },
  {
   "cell_type": "markdown",
   "metadata": {
    "colab_type": "text",
    "id": "QmrHf8AMFsxz"
   },
   "source": [
    "### Part 7:\n",
    "\n",
    "How is `TfidfVectorizer` different than `CountVectorizer`?\n",
    "\n",
    "Produce a Logistic Regression model based on data represented in tf-idf form, with L2 regularization strength of 100.  Evaluate and show the f1 score.  How is `TfidfVectorizer` different than `CountVectorizer`?\n",
    "\n",
    "Show the 3 documents with highest R ratio, where ...<br/>\n",
    "$R\\,ratio = maximum\\,predicted\\,probability \\div predicted\\,probability\\,of\\,correct\\,label$\n",
    "\n",
    "Explain what the R ratio describes.  What kinds of mistakes is the model making? Suggest a way to address one particular issue that you see.\n",
    "\n",
    "Note:\n",
    "* Train on the transformed training data.\n",
    "* Evaluate on the transformed development data.\n",
    "* You can use `TfidfVectorizer` and its `.fit_transform` method to transform data to tf-idf form.\n",
    "* You can use `LogisticRegression(C=100, solver=\"liblinear\", multi_class=\"auto\")` to produce a logistic regression model.\n",
    "* You can use `LogisticRegression`'s `.predict_proba` method to access predicted probabilities."
   ]
  },
  {
   "cell_type": "code",
   "execution_count": 37,
   "metadata": {
    "colab": {},
    "colab_type": "code",
    "id": "8vwU_9t2Fsx0"
   },
   "outputs": [
    {
     "name": "stdout",
     "output_type": "stream",
     "text": [
      "Top 3 R ratio: 287.17945\n",
      "Class talk.religion.misc has the highest predicted probability of 0.69546\n",
      "The actual class label is alt.atheism\n",
      "Top 2 R ratio: 325.00406\n",
      "Class comp.graphics has the highest predicted probability of 0.97975\n",
      "The actual class label is talk.religion.misc\n",
      "Top 1 R ratio: 929.35758\n",
      "Class comp.graphics has the highest predicted probability of 0.99372\n",
      "The actual class label is talk.religion.misc\n"
     ]
    }
   ],
   "source": [
    "def P7():\n",
    "    ### STUDENT START ###\n",
    "    vectorizer = TfidfVectorizer()\n",
    "    train_matrix = vectorizer.fit_transform(train_data)\n",
    "    dev_matrix = vectorizer.transform(dev_data)\n",
    "    \n",
    "    LogReg_model = LogisticRegression(C = 100, solver = \"liblinear\", multi_class=\"auto\")\n",
    "    LogReg_model.fit(train_matrix, train_labels)\n",
    "    predict_prob = LogReg_model.predict_proba(dev_matrix)\n",
    "    pred_prb_correct = np.zeros(len(dev_labels))\n",
    "    for i, label in enumerate(dev_labels):\n",
    "        pred_prb_correct[i] = predict_prob[i][label]\n",
    "    R_ratio = predict_prob[:len(dev_labels), :].max(axis=1)/pred_prb_correct\n",
    "    indices = np.argsort(R_ratio)\n",
    "    \n",
    "    largest_3 = np.transpose([R_ratio[indices[-3:len(indices)]],\n",
    "                 predict_prob[indices[-3:len(indices)],:].max(axis=1),\n",
    "                 np.argmax(predict_prob[indices[-3:len(indices)],:], axis=1),\n",
    "                 dev_labels[indices[-3:len(indices)]]])\n",
    "\n",
    "    for i in range(np.shape(largest_3)[0]):\n",
    "        print(\"Top %i R ratio: %.5f\" % (np.shape(largest_3)[0]-i, largest_3[i][0]))\n",
    "        print(\"Class %s has the highest predicted probability of %.5f\" %\n",
    "              (newsgroups_train.target_names[int(largest_3[i][2])], largest_3[i][1]))\n",
    "        print(\"The actual class label is\", newsgroups_train.target_names[int(largest_3[i][3])])\n",
    "    \n",
    "    ### STUDENT END ###\n",
    "\n",
    "    \n",
    "P7()"
   ]
  },
  {
   "cell_type": "markdown",
   "metadata": {
    "colab_type": "text",
    "id": "bZmIPwExFsx1"
   },
   "source": [
    "ANSWER:"
   ]
  },
  {
   "cell_type": "markdown",
   "metadata": {
    "colab_type": "text",
    "id": "VmsDxtzoFsx1"
   },
   "source": [
    "### Part 8 EXTRA CREDIT:\n",
    "\n",
    "Produce a Logistic Regression model to implement your suggestion from Part 7."
   ]
  },
  {
   "cell_type": "code",
   "execution_count": null,
   "metadata": {
    "colab": {},
    "colab_type": "code",
    "id": "ZMaqe8c5Fsx2"
   },
   "outputs": [],
   "source": []
  }
 ],
 "metadata": {
  "colab": {
   "collapsed_sections": [],
   "name": "firstname_lastname_p2.ipynb",
   "private_outputs": true,
   "provenance": [
    {
     "file_id": "https://github.com/MIDS-W207/Master/blob/master/Projects/firstname_lastname_p2.ipynb",
     "timestamp": 1559779272103
    }
   ],
   "version": "0.3.2"
  },
  "kernelspec": {
   "display_name": "Python 3",
   "language": "python",
   "name": "python3"
  },
  "language_info": {
   "codemirror_mode": {
    "name": "ipython",
    "version": 3
   },
   "file_extension": ".py",
   "mimetype": "text/x-python",
   "name": "python",
   "nbconvert_exporter": "python",
   "pygments_lexer": "ipython3",
   "version": "3.7.4"
  },
  "toc": {
   "base_numbering": 1,
   "nav_menu": {},
   "number_sections": false,
   "sideBar": true,
   "skip_h1_title": true,
   "title_cell": "Table of Contents",
   "title_sidebar": "Contents",
   "toc_cell": false,
   "toc_position": {},
   "toc_section_display": true,
   "toc_window_display": false
  }
 },
 "nbformat": 4,
 "nbformat_minor": 1
}
