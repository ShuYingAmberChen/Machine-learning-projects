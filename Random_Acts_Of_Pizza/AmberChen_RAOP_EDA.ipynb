{
 "cells": [
  {
   "cell_type": "code",
   "execution_count": 1,
   "metadata": {},
   "outputs": [],
   "source": [
    "%matplotlib inline\n",
    "\n",
    "import json\n",
    "import numpy as np\n",
    "import pandas as pd\n",
    "import matplotlib.pyplot as plt \n",
    "import re"
   ]
  },
  {
   "cell_type": "code",
   "execution_count": 2,
   "metadata": {},
   "outputs": [],
   "source": [
    "# import Json data\n",
    "def readjson(filename):\n",
    "    with open(filename) as file:\n",
    "        data = json.load(file)\n",
    "    return data\n",
    "\n",
    "### Read train and test data.\n",
    "train = readjson(\"train.json\")\n",
    "test = readjson(\"test.json\")\n",
    "\n",
    "train_df = pd.DataFrame(train)\n",
    "test_df = pd.DataFrame(test)"
   ]
  },
  {
   "cell_type": "code",
   "execution_count": 3,
   "metadata": {},
   "outputs": [
    {
     "name": "stdout",
     "output_type": "stream",
     "text": [
      "4040\n",
      "1631\n",
      "<class 'pandas.core.frame.DataFrame'>\n",
      "RangeIndex: 4040 entries, 0 to 4039\n",
      "Data columns (total 32 columns):\n",
      "giver_username_if_known                                 4040 non-null object\n",
      "number_of_downvotes_of_request_at_retrieval             4040 non-null int64\n",
      "number_of_upvotes_of_request_at_retrieval               4040 non-null int64\n",
      "post_was_edited                                         4040 non-null object\n",
      "request_id                                              4040 non-null object\n",
      "request_number_of_comments_at_retrieval                 4040 non-null int64\n",
      "request_text                                            4040 non-null object\n",
      "request_text_edit_aware                                 4040 non-null object\n",
      "request_title                                           4040 non-null object\n",
      "requester_account_age_in_days_at_request                4040 non-null float64\n",
      "requester_account_age_in_days_at_retrieval              4040 non-null float64\n",
      "requester_days_since_first_post_on_raop_at_request      4040 non-null float64\n",
      "requester_days_since_first_post_on_raop_at_retrieval    4040 non-null float64\n",
      "requester_number_of_comments_at_request                 4040 non-null int64\n",
      "requester_number_of_comments_at_retrieval               4040 non-null int64\n",
      "requester_number_of_comments_in_raop_at_request         4040 non-null int64\n",
      "requester_number_of_comments_in_raop_at_retrieval       4040 non-null int64\n",
      "requester_number_of_posts_at_request                    4040 non-null int64\n",
      "requester_number_of_posts_at_retrieval                  4040 non-null int64\n",
      "requester_number_of_posts_on_raop_at_request            4040 non-null int64\n",
      "requester_number_of_posts_on_raop_at_retrieval          4040 non-null int64\n",
      "requester_number_of_subreddits_at_request               4040 non-null int64\n",
      "requester_received_pizza                                4040 non-null bool\n",
      "requester_subreddits_at_request                         4040 non-null object\n",
      "requester_upvotes_minus_downvotes_at_request            4040 non-null int64\n",
      "requester_upvotes_minus_downvotes_at_retrieval          4040 non-null int64\n",
      "requester_upvotes_plus_downvotes_at_request             4040 non-null int64\n",
      "requester_upvotes_plus_downvotes_at_retrieval           4040 non-null int64\n",
      "requester_user_flair                                    994 non-null object\n",
      "requester_username                                      4040 non-null object\n",
      "unix_timestamp_of_request                               4040 non-null float64\n",
      "unix_timestamp_of_request_utc                           4040 non-null float64\n",
      "dtypes: bool(1), float64(6), int64(16), object(9)\n",
      "memory usage: 982.5+ KB\n",
      "None\n",
      "<class 'pandas.core.frame.DataFrame'>\n",
      "RangeIndex: 1631 entries, 0 to 1630\n",
      "Data columns (total 17 columns):\n",
      "giver_username_if_known                               1631 non-null object\n",
      "request_id                                            1631 non-null object\n",
      "request_text_edit_aware                               1631 non-null object\n",
      "request_title                                         1631 non-null object\n",
      "requester_account_age_in_days_at_request              1631 non-null float64\n",
      "requester_days_since_first_post_on_raop_at_request    1631 non-null float64\n",
      "requester_number_of_comments_at_request               1631 non-null int64\n",
      "requester_number_of_comments_in_raop_at_request       1631 non-null int64\n",
      "requester_number_of_posts_at_request                  1631 non-null int64\n",
      "requester_number_of_posts_on_raop_at_request          1631 non-null int64\n",
      "requester_number_of_subreddits_at_request             1631 non-null int64\n",
      "requester_subreddits_at_request                       1631 non-null object\n",
      "requester_upvotes_minus_downvotes_at_request          1631 non-null int64\n",
      "requester_upvotes_plus_downvotes_at_request           1631 non-null int64\n",
      "requester_username                                    1631 non-null object\n",
      "unix_timestamp_of_request                             1631 non-null float64\n",
      "unix_timestamp_of_request_utc                         1631 non-null float64\n",
      "dtypes: float64(4), int64(7), object(6)\n",
      "memory usage: 216.7+ KB\n",
      "None\n",
      "[None 'shroom' 'PIF']\n"
     ]
    }
   ],
   "source": [
    "print(len(train_df['request_id']))\n",
    "print(len(test_df['request_id']))\n",
    "print(train_df.info())\n",
    "print(test_df.info())\n",
    "print(pd.unique(train_df['requester_user_flair']))"
   ]
  },
  {
   "cell_type": "markdown",
   "metadata": {},
   "source": [
    "No null missing values in both test and train data sets except the \"requester_user_flair\" (Users on RAOP received badges). For this variable, a null value represents that the user has not received a badge. Hence the null values are valid.\n",
    "\n",
    "The test data set has less info than the train data set."
   ]
  },
  {
   "cell_type": "code",
   "execution_count": 4,
   "metadata": {},
   "outputs": [
    {
     "data": {
      "text/html": [
       "<div>\n",
       "<style scoped>\n",
       "    .dataframe tbody tr th:only-of-type {\n",
       "        vertical-align: middle;\n",
       "    }\n",
       "\n",
       "    .dataframe tbody tr th {\n",
       "        vertical-align: top;\n",
       "    }\n",
       "\n",
       "    .dataframe thead th {\n",
       "        text-align: right;\n",
       "    }\n",
       "</style>\n",
       "<table border=\"1\" class=\"dataframe\">\n",
       "  <thead>\n",
       "    <tr style=\"text-align: right;\">\n",
       "      <th></th>\n",
       "      <th>giver_username_if_known</th>\n",
       "      <th>number_of_downvotes_of_request_at_retrieval</th>\n",
       "      <th>number_of_upvotes_of_request_at_retrieval</th>\n",
       "      <th>post_was_edited</th>\n",
       "      <th>request_id</th>\n",
       "      <th>request_number_of_comments_at_retrieval</th>\n",
       "      <th>request_text</th>\n",
       "      <th>request_text_edit_aware</th>\n",
       "      <th>request_title</th>\n",
       "      <th>requester_account_age_in_days_at_request</th>\n",
       "      <th>...</th>\n",
       "      <th>requester_received_pizza</th>\n",
       "      <th>requester_subreddits_at_request</th>\n",
       "      <th>requester_upvotes_minus_downvotes_at_request</th>\n",
       "      <th>requester_upvotes_minus_downvotes_at_retrieval</th>\n",
       "      <th>requester_upvotes_plus_downvotes_at_request</th>\n",
       "      <th>requester_upvotes_plus_downvotes_at_retrieval</th>\n",
       "      <th>requester_user_flair</th>\n",
       "      <th>requester_username</th>\n",
       "      <th>unix_timestamp_of_request</th>\n",
       "      <th>unix_timestamp_of_request_utc</th>\n",
       "    </tr>\n",
       "  </thead>\n",
       "  <tbody>\n",
       "    <tr>\n",
       "      <td>0</td>\n",
       "      <td>N/A</td>\n",
       "      <td>0</td>\n",
       "      <td>1</td>\n",
       "      <td>False</td>\n",
       "      <td>t3_l25d7</td>\n",
       "      <td>0</td>\n",
       "      <td>Hi I am in need of food for my 4 children we a...</td>\n",
       "      <td>Hi I am in need of food for my 4 children we a...</td>\n",
       "      <td>Request Colorado Springs Help Us Please</td>\n",
       "      <td>0.000000</td>\n",
       "      <td>...</td>\n",
       "      <td>False</td>\n",
       "      <td>[]</td>\n",
       "      <td>0</td>\n",
       "      <td>1</td>\n",
       "      <td>0</td>\n",
       "      <td>1</td>\n",
       "      <td>None</td>\n",
       "      <td>nickylvst</td>\n",
       "      <td>1.317853e+09</td>\n",
       "      <td>1.317849e+09</td>\n",
       "    </tr>\n",
       "    <tr>\n",
       "      <td>1</td>\n",
       "      <td>N/A</td>\n",
       "      <td>2</td>\n",
       "      <td>5</td>\n",
       "      <td>False</td>\n",
       "      <td>t3_rcb83</td>\n",
       "      <td>0</td>\n",
       "      <td>I spent the last money I had on gas today. Im ...</td>\n",
       "      <td>I spent the last money I had on gas today. Im ...</td>\n",
       "      <td>[Request] California, No cash and I could use ...</td>\n",
       "      <td>501.111100</td>\n",
       "      <td>...</td>\n",
       "      <td>False</td>\n",
       "      <td>[AskReddit, Eve, IAmA, MontereyBay, RandomKind...</td>\n",
       "      <td>34</td>\n",
       "      <td>4258</td>\n",
       "      <td>116</td>\n",
       "      <td>11168</td>\n",
       "      <td>None</td>\n",
       "      <td>fohacidal</td>\n",
       "      <td>1.332652e+09</td>\n",
       "      <td>1.332649e+09</td>\n",
       "    </tr>\n",
       "    <tr>\n",
       "      <td>2</td>\n",
       "      <td>N/A</td>\n",
       "      <td>0</td>\n",
       "      <td>3</td>\n",
       "      <td>False</td>\n",
       "      <td>t3_lpu5j</td>\n",
       "      <td>0</td>\n",
       "      <td>My girlfriend decided it would be a good idea ...</td>\n",
       "      <td>My girlfriend decided it would be a good idea ...</td>\n",
       "      <td>[Request] Hungry couple in Dundee, Scotland wo...</td>\n",
       "      <td>0.000000</td>\n",
       "      <td>...</td>\n",
       "      <td>False</td>\n",
       "      <td>[]</td>\n",
       "      <td>0</td>\n",
       "      <td>3</td>\n",
       "      <td>0</td>\n",
       "      <td>3</td>\n",
       "      <td>None</td>\n",
       "      <td>jacquibatman7</td>\n",
       "      <td>1.319650e+09</td>\n",
       "      <td>1.319646e+09</td>\n",
       "    </tr>\n",
       "    <tr>\n",
       "      <td>3</td>\n",
       "      <td>N/A</td>\n",
       "      <td>0</td>\n",
       "      <td>1</td>\n",
       "      <td>True</td>\n",
       "      <td>t3_mxvj3</td>\n",
       "      <td>4</td>\n",
       "      <td>It's cold, I'n hungry, and to be completely ho...</td>\n",
       "      <td>It's cold, I'n hungry, and to be completely ho...</td>\n",
       "      <td>[Request] In Canada (Ontario), just got home f...</td>\n",
       "      <td>6.518438</td>\n",
       "      <td>...</td>\n",
       "      <td>False</td>\n",
       "      <td>[AskReddit, DJs, IAmA, Random_Acts_Of_Pizza]</td>\n",
       "      <td>54</td>\n",
       "      <td>59</td>\n",
       "      <td>76</td>\n",
       "      <td>81</td>\n",
       "      <td>None</td>\n",
       "      <td>4on_the_floor</td>\n",
       "      <td>1.322855e+09</td>\n",
       "      <td>1.322855e+09</td>\n",
       "    </tr>\n",
       "    <tr>\n",
       "      <td>4</td>\n",
       "      <td>N/A</td>\n",
       "      <td>6</td>\n",
       "      <td>6</td>\n",
       "      <td>False</td>\n",
       "      <td>t3_1i6486</td>\n",
       "      <td>5</td>\n",
       "      <td>hey guys:\\n I love this sub. I think it's grea...</td>\n",
       "      <td>hey guys:\\n I love this sub. I think it's grea...</td>\n",
       "      <td>[Request] Old friend coming to visit. Would LO...</td>\n",
       "      <td>162.063252</td>\n",
       "      <td>...</td>\n",
       "      <td>False</td>\n",
       "      <td>[GayBrosWeightLoss, RandomActsOfCookies, Rando...</td>\n",
       "      <td>1121</td>\n",
       "      <td>1225</td>\n",
       "      <td>1733</td>\n",
       "      <td>1887</td>\n",
       "      <td>None</td>\n",
       "      <td>Futuredogwalker</td>\n",
       "      <td>1.373658e+09</td>\n",
       "      <td>1.373654e+09</td>\n",
       "    </tr>\n",
       "  </tbody>\n",
       "</table>\n",
       "<p>5 rows × 32 columns</p>\n",
       "</div>"
      ],
      "text/plain": [
       "  giver_username_if_known  number_of_downvotes_of_request_at_retrieval  \\\n",
       "0                     N/A                                            0   \n",
       "1                     N/A                                            2   \n",
       "2                     N/A                                            0   \n",
       "3                     N/A                                            0   \n",
       "4                     N/A                                            6   \n",
       "\n",
       "   number_of_upvotes_of_request_at_retrieval post_was_edited request_id  \\\n",
       "0                                          1           False   t3_l25d7   \n",
       "1                                          5           False   t3_rcb83   \n",
       "2                                          3           False   t3_lpu5j   \n",
       "3                                          1            True   t3_mxvj3   \n",
       "4                                          6           False  t3_1i6486   \n",
       "\n",
       "   request_number_of_comments_at_retrieval  \\\n",
       "0                                        0   \n",
       "1                                        0   \n",
       "2                                        0   \n",
       "3                                        4   \n",
       "4                                        5   \n",
       "\n",
       "                                        request_text  \\\n",
       "0  Hi I am in need of food for my 4 children we a...   \n",
       "1  I spent the last money I had on gas today. Im ...   \n",
       "2  My girlfriend decided it would be a good idea ...   \n",
       "3  It's cold, I'n hungry, and to be completely ho...   \n",
       "4  hey guys:\\n I love this sub. I think it's grea...   \n",
       "\n",
       "                             request_text_edit_aware  \\\n",
       "0  Hi I am in need of food for my 4 children we a...   \n",
       "1  I spent the last money I had on gas today. Im ...   \n",
       "2  My girlfriend decided it would be a good idea ...   \n",
       "3  It's cold, I'n hungry, and to be completely ho...   \n",
       "4  hey guys:\\n I love this sub. I think it's grea...   \n",
       "\n",
       "                                       request_title  \\\n",
       "0            Request Colorado Springs Help Us Please   \n",
       "1  [Request] California, No cash and I could use ...   \n",
       "2  [Request] Hungry couple in Dundee, Scotland wo...   \n",
       "3  [Request] In Canada (Ontario), just got home f...   \n",
       "4  [Request] Old friend coming to visit. Would LO...   \n",
       "\n",
       "   requester_account_age_in_days_at_request  ...  requester_received_pizza  \\\n",
       "0                                  0.000000  ...                     False   \n",
       "1                                501.111100  ...                     False   \n",
       "2                                  0.000000  ...                     False   \n",
       "3                                  6.518438  ...                     False   \n",
       "4                                162.063252  ...                     False   \n",
       "\n",
       "                     requester_subreddits_at_request  \\\n",
       "0                                                 []   \n",
       "1  [AskReddit, Eve, IAmA, MontereyBay, RandomKind...   \n",
       "2                                                 []   \n",
       "3       [AskReddit, DJs, IAmA, Random_Acts_Of_Pizza]   \n",
       "4  [GayBrosWeightLoss, RandomActsOfCookies, Rando...   \n",
       "\n",
       "   requester_upvotes_minus_downvotes_at_request  \\\n",
       "0                                             0   \n",
       "1                                            34   \n",
       "2                                             0   \n",
       "3                                            54   \n",
       "4                                          1121   \n",
       "\n",
       "   requester_upvotes_minus_downvotes_at_retrieval  \\\n",
       "0                                               1   \n",
       "1                                            4258   \n",
       "2                                               3   \n",
       "3                                              59   \n",
       "4                                            1225   \n",
       "\n",
       "   requester_upvotes_plus_downvotes_at_request  \\\n",
       "0                                            0   \n",
       "1                                          116   \n",
       "2                                            0   \n",
       "3                                           76   \n",
       "4                                         1733   \n",
       "\n",
       "   requester_upvotes_plus_downvotes_at_retrieval  requester_user_flair  \\\n",
       "0                                              1                  None   \n",
       "1                                          11168                  None   \n",
       "2                                              3                  None   \n",
       "3                                             81                  None   \n",
       "4                                           1887                  None   \n",
       "\n",
       "   requester_username  unix_timestamp_of_request  \\\n",
       "0           nickylvst               1.317853e+09   \n",
       "1           fohacidal               1.332652e+09   \n",
       "2       jacquibatman7               1.319650e+09   \n",
       "3       4on_the_floor               1.322855e+09   \n",
       "4     Futuredogwalker               1.373658e+09   \n",
       "\n",
       "   unix_timestamp_of_request_utc  \n",
       "0                   1.317849e+09  \n",
       "1                   1.332649e+09  \n",
       "2                   1.319646e+09  \n",
       "3                   1.322855e+09  \n",
       "4                   1.373654e+09  \n",
       "\n",
       "[5 rows x 32 columns]"
      ]
     },
     "execution_count": 4,
     "metadata": {},
     "output_type": "execute_result"
    }
   ],
   "source": [
    "train_df.head()"
   ]
  },
  {
   "cell_type": "code",
   "execution_count": 5,
   "metadata": {},
   "outputs": [
    {
     "data": {
      "text/html": [
       "<div>\n",
       "<style scoped>\n",
       "    .dataframe tbody tr th:only-of-type {\n",
       "        vertical-align: middle;\n",
       "    }\n",
       "\n",
       "    .dataframe tbody tr th {\n",
       "        vertical-align: top;\n",
       "    }\n",
       "\n",
       "    .dataframe thead th {\n",
       "        text-align: right;\n",
       "    }\n",
       "</style>\n",
       "<table border=\"1\" class=\"dataframe\">\n",
       "  <thead>\n",
       "    <tr style=\"text-align: right;\">\n",
       "      <th></th>\n",
       "      <th>number_of_downvotes_of_request_at_retrieval</th>\n",
       "      <th>number_of_upvotes_of_request_at_retrieval</th>\n",
       "      <th>request_number_of_comments_at_retrieval</th>\n",
       "      <th>requester_account_age_in_days_at_request</th>\n",
       "      <th>requester_account_age_in_days_at_retrieval</th>\n",
       "      <th>requester_days_since_first_post_on_raop_at_request</th>\n",
       "      <th>requester_days_since_first_post_on_raop_at_retrieval</th>\n",
       "      <th>requester_number_of_comments_at_request</th>\n",
       "      <th>requester_number_of_comments_at_retrieval</th>\n",
       "      <th>requester_number_of_comments_in_raop_at_request</th>\n",
       "      <th>...</th>\n",
       "      <th>requester_number_of_posts_at_retrieval</th>\n",
       "      <th>requester_number_of_posts_on_raop_at_request</th>\n",
       "      <th>requester_number_of_posts_on_raop_at_retrieval</th>\n",
       "      <th>requester_number_of_subreddits_at_request</th>\n",
       "      <th>requester_upvotes_minus_downvotes_at_request</th>\n",
       "      <th>requester_upvotes_minus_downvotes_at_retrieval</th>\n",
       "      <th>requester_upvotes_plus_downvotes_at_request</th>\n",
       "      <th>requester_upvotes_plus_downvotes_at_retrieval</th>\n",
       "      <th>unix_timestamp_of_request</th>\n",
       "      <th>unix_timestamp_of_request_utc</th>\n",
       "    </tr>\n",
       "  </thead>\n",
       "  <tbody>\n",
       "    <tr>\n",
       "      <td>count</td>\n",
       "      <td>4040.000000</td>\n",
       "      <td>4040.000000</td>\n",
       "      <td>4040.000000</td>\n",
       "      <td>4040.000000</td>\n",
       "      <td>4040.000000</td>\n",
       "      <td>4040.000000</td>\n",
       "      <td>4040.000000</td>\n",
       "      <td>4040.000000</td>\n",
       "      <td>4040.000000</td>\n",
       "      <td>4040.000000</td>\n",
       "      <td>...</td>\n",
       "      <td>4040.000000</td>\n",
       "      <td>4040.000000</td>\n",
       "      <td>4040.000000</td>\n",
       "      <td>4040.000000</td>\n",
       "      <td>4040.000000</td>\n",
       "      <td>4040.000000</td>\n",
       "      <td>4.040000e+03</td>\n",
       "      <td>4.040000e+03</td>\n",
       "      <td>4.040000e+03</td>\n",
       "      <td>4.040000e+03</td>\n",
       "    </tr>\n",
       "    <tr>\n",
       "      <td>mean</td>\n",
       "      <td>2.424505</td>\n",
       "      <td>6.180446</td>\n",
       "      <td>2.871040</td>\n",
       "      <td>254.586579</td>\n",
       "      <td>757.692720</td>\n",
       "      <td>16.417034</td>\n",
       "      <td>518.993205</td>\n",
       "      <td>115.098267</td>\n",
       "      <td>289.425743</td>\n",
       "      <td>0.645050</td>\n",
       "      <td>...</td>\n",
       "      <td>41.151733</td>\n",
       "      <td>0.063614</td>\n",
       "      <td>1.239109</td>\n",
       "      <td>18.076733</td>\n",
       "      <td>1160.079950</td>\n",
       "      <td>2720.342079</td>\n",
       "      <td>3.743236e+03</td>\n",
       "      <td>7.788069e+03</td>\n",
       "      <td>1.342829e+09</td>\n",
       "      <td>1.342826e+09</td>\n",
       "    </tr>\n",
       "    <tr>\n",
       "      <td>std</td>\n",
       "      <td>3.023101</td>\n",
       "      <td>10.746320</td>\n",
       "      <td>4.723339</td>\n",
       "      <td>303.275730</td>\n",
       "      <td>333.035728</td>\n",
       "      <td>70.651428</td>\n",
       "      <td>267.872623</td>\n",
       "      <td>193.318968</td>\n",
       "      <td>357.416133</td>\n",
       "      <td>3.413813</td>\n",
       "      <td>...</td>\n",
       "      <td>80.798543</td>\n",
       "      <td>0.325773</td>\n",
       "      <td>0.603083</td>\n",
       "      <td>21.736465</td>\n",
       "      <td>3718.365515</td>\n",
       "      <td>6264.378878</td>\n",
       "      <td>2.583816e+04</td>\n",
       "      <td>3.916741e+04</td>\n",
       "      <td>2.333057e+07</td>\n",
       "      <td>2.332989e+07</td>\n",
       "    </tr>\n",
       "    <tr>\n",
       "      <td>min</td>\n",
       "      <td>0.000000</td>\n",
       "      <td>0.000000</td>\n",
       "      <td>0.000000</td>\n",
       "      <td>0.000000</td>\n",
       "      <td>45.291562</td>\n",
       "      <td>0.000000</td>\n",
       "      <td>0.000000</td>\n",
       "      <td>0.000000</td>\n",
       "      <td>0.000000</td>\n",
       "      <td>0.000000</td>\n",
       "      <td>...</td>\n",
       "      <td>0.000000</td>\n",
       "      <td>0.000000</td>\n",
       "      <td>0.000000</td>\n",
       "      <td>0.000000</td>\n",
       "      <td>-173.000000</td>\n",
       "      <td>-173.000000</td>\n",
       "      <td>0.000000e+00</td>\n",
       "      <td>0.000000e+00</td>\n",
       "      <td>1.297723e+09</td>\n",
       "      <td>1.297723e+09</td>\n",
       "    </tr>\n",
       "    <tr>\n",
       "      <td>25%</td>\n",
       "      <td>1.000000</td>\n",
       "      <td>2.000000</td>\n",
       "      <td>0.000000</td>\n",
       "      <td>3.473168</td>\n",
       "      <td>522.248455</td>\n",
       "      <td>0.000000</td>\n",
       "      <td>279.009051</td>\n",
       "      <td>0.000000</td>\n",
       "      <td>8.000000</td>\n",
       "      <td>0.000000</td>\n",
       "      <td>...</td>\n",
       "      <td>2.000000</td>\n",
       "      <td>0.000000</td>\n",
       "      <td>1.000000</td>\n",
       "      <td>1.000000</td>\n",
       "      <td>3.000000</td>\n",
       "      <td>22.000000</td>\n",
       "      <td>9.000000e+00</td>\n",
       "      <td>5.200000e+01</td>\n",
       "      <td>1.320469e+09</td>\n",
       "      <td>1.320466e+09</td>\n",
       "    </tr>\n",
       "    <tr>\n",
       "      <td>50%</td>\n",
       "      <td>2.000000</td>\n",
       "      <td>4.000000</td>\n",
       "      <td>1.000000</td>\n",
       "      <td>157.067170</td>\n",
       "      <td>753.270874</td>\n",
       "      <td>0.000000</td>\n",
       "      <td>528.781939</td>\n",
       "      <td>24.000000</td>\n",
       "      <td>114.000000</td>\n",
       "      <td>0.000000</td>\n",
       "      <td>...</td>\n",
       "      <td>13.000000</td>\n",
       "      <td>0.000000</td>\n",
       "      <td>1.000000</td>\n",
       "      <td>11.000000</td>\n",
       "      <td>174.500000</td>\n",
       "      <td>708.000000</td>\n",
       "      <td>3.510000e+02</td>\n",
       "      <td>1.283500e+03</td>\n",
       "      <td>1.342565e+09</td>\n",
       "      <td>1.342561e+09</td>\n",
       "    </tr>\n",
       "    <tr>\n",
       "      <td>75%</td>\n",
       "      <td>3.000000</td>\n",
       "      <td>7.000000</td>\n",
       "      <td>4.000000</td>\n",
       "      <td>390.092653</td>\n",
       "      <td>900.349838</td>\n",
       "      <td>0.000000</td>\n",
       "      <td>776.226670</td>\n",
       "      <td>140.250000</td>\n",
       "      <td>479.000000</td>\n",
       "      <td>0.000000</td>\n",
       "      <td>...</td>\n",
       "      <td>46.000000</td>\n",
       "      <td>0.000000</td>\n",
       "      <td>1.000000</td>\n",
       "      <td>27.000000</td>\n",
       "      <td>1163.750000</td>\n",
       "      <td>3304.000000</td>\n",
       "      <td>2.303750e+03</td>\n",
       "      <td>6.829000e+03</td>\n",
       "      <td>1.364618e+09</td>\n",
       "      <td>1.364614e+09</td>\n",
       "    </tr>\n",
       "    <tr>\n",
       "      <td>max</td>\n",
       "      <td>47.000000</td>\n",
       "      <td>345.000000</td>\n",
       "      <td>61.000000</td>\n",
       "      <td>2809.750787</td>\n",
       "      <td>2879.276319</td>\n",
       "      <td>785.457685</td>\n",
       "      <td>1025.407593</td>\n",
       "      <td>994.000000</td>\n",
       "      <td>1000.000000</td>\n",
       "      <td>88.000000</td>\n",
       "      <td>...</td>\n",
       "      <td>999.000000</td>\n",
       "      <td>5.000000</td>\n",
       "      <td>9.000000</td>\n",
       "      <td>186.000000</td>\n",
       "      <td>155010.000000</td>\n",
       "      <td>223708.000000</td>\n",
       "      <td>1.286864e+06</td>\n",
       "      <td>2.046482e+06</td>\n",
       "      <td>1.381552e+09</td>\n",
       "      <td>1.381523e+09</td>\n",
       "    </tr>\n",
       "  </tbody>\n",
       "</table>\n",
       "<p>8 rows × 22 columns</p>\n",
       "</div>"
      ],
      "text/plain": [
       "       number_of_downvotes_of_request_at_retrieval  \\\n",
       "count                                  4040.000000   \n",
       "mean                                      2.424505   \n",
       "std                                       3.023101   \n",
       "min                                       0.000000   \n",
       "25%                                       1.000000   \n",
       "50%                                       2.000000   \n",
       "75%                                       3.000000   \n",
       "max                                      47.000000   \n",
       "\n",
       "       number_of_upvotes_of_request_at_retrieval  \\\n",
       "count                                4040.000000   \n",
       "mean                                    6.180446   \n",
       "std                                    10.746320   \n",
       "min                                     0.000000   \n",
       "25%                                     2.000000   \n",
       "50%                                     4.000000   \n",
       "75%                                     7.000000   \n",
       "max                                   345.000000   \n",
       "\n",
       "       request_number_of_comments_at_retrieval  \\\n",
       "count                              4040.000000   \n",
       "mean                                  2.871040   \n",
       "std                                   4.723339   \n",
       "min                                   0.000000   \n",
       "25%                                   0.000000   \n",
       "50%                                   1.000000   \n",
       "75%                                   4.000000   \n",
       "max                                  61.000000   \n",
       "\n",
       "       requester_account_age_in_days_at_request  \\\n",
       "count                               4040.000000   \n",
       "mean                                 254.586579   \n",
       "std                                  303.275730   \n",
       "min                                    0.000000   \n",
       "25%                                    3.473168   \n",
       "50%                                  157.067170   \n",
       "75%                                  390.092653   \n",
       "max                                 2809.750787   \n",
       "\n",
       "       requester_account_age_in_days_at_retrieval  \\\n",
       "count                                 4040.000000   \n",
       "mean                                   757.692720   \n",
       "std                                    333.035728   \n",
       "min                                     45.291562   \n",
       "25%                                    522.248455   \n",
       "50%                                    753.270874   \n",
       "75%                                    900.349838   \n",
       "max                                   2879.276319   \n",
       "\n",
       "       requester_days_since_first_post_on_raop_at_request  \\\n",
       "count                                        4040.000000    \n",
       "mean                                           16.417034    \n",
       "std                                            70.651428    \n",
       "min                                             0.000000    \n",
       "25%                                             0.000000    \n",
       "50%                                             0.000000    \n",
       "75%                                             0.000000    \n",
       "max                                           785.457685    \n",
       "\n",
       "       requester_days_since_first_post_on_raop_at_retrieval  \\\n",
       "count                                        4040.000000      \n",
       "mean                                          518.993205      \n",
       "std                                           267.872623      \n",
       "min                                             0.000000      \n",
       "25%                                           279.009051      \n",
       "50%                                           528.781939      \n",
       "75%                                           776.226670      \n",
       "max                                          1025.407593      \n",
       "\n",
       "       requester_number_of_comments_at_request  \\\n",
       "count                              4040.000000   \n",
       "mean                                115.098267   \n",
       "std                                 193.318968   \n",
       "min                                   0.000000   \n",
       "25%                                   0.000000   \n",
       "50%                                  24.000000   \n",
       "75%                                 140.250000   \n",
       "max                                 994.000000   \n",
       "\n",
       "       requester_number_of_comments_at_retrieval  \\\n",
       "count                                4040.000000   \n",
       "mean                                  289.425743   \n",
       "std                                   357.416133   \n",
       "min                                     0.000000   \n",
       "25%                                     8.000000   \n",
       "50%                                   114.000000   \n",
       "75%                                   479.000000   \n",
       "max                                  1000.000000   \n",
       "\n",
       "       requester_number_of_comments_in_raop_at_request  ...  \\\n",
       "count                                      4040.000000  ...   \n",
       "mean                                          0.645050  ...   \n",
       "std                                           3.413813  ...   \n",
       "min                                           0.000000  ...   \n",
       "25%                                           0.000000  ...   \n",
       "50%                                           0.000000  ...   \n",
       "75%                                           0.000000  ...   \n",
       "max                                          88.000000  ...   \n",
       "\n",
       "       requester_number_of_posts_at_retrieval  \\\n",
       "count                             4040.000000   \n",
       "mean                                41.151733   \n",
       "std                                 80.798543   \n",
       "min                                  0.000000   \n",
       "25%                                  2.000000   \n",
       "50%                                 13.000000   \n",
       "75%                                 46.000000   \n",
       "max                                999.000000   \n",
       "\n",
       "       requester_number_of_posts_on_raop_at_request  \\\n",
       "count                                   4040.000000   \n",
       "mean                                       0.063614   \n",
       "std                                        0.325773   \n",
       "min                                        0.000000   \n",
       "25%                                        0.000000   \n",
       "50%                                        0.000000   \n",
       "75%                                        0.000000   \n",
       "max                                        5.000000   \n",
       "\n",
       "       requester_number_of_posts_on_raop_at_retrieval  \\\n",
       "count                                     4040.000000   \n",
       "mean                                         1.239109   \n",
       "std                                          0.603083   \n",
       "min                                          0.000000   \n",
       "25%                                          1.000000   \n",
       "50%                                          1.000000   \n",
       "75%                                          1.000000   \n",
       "max                                          9.000000   \n",
       "\n",
       "       requester_number_of_subreddits_at_request  \\\n",
       "count                                4040.000000   \n",
       "mean                                   18.076733   \n",
       "std                                    21.736465   \n",
       "min                                     0.000000   \n",
       "25%                                     1.000000   \n",
       "50%                                    11.000000   \n",
       "75%                                    27.000000   \n",
       "max                                   186.000000   \n",
       "\n",
       "       requester_upvotes_minus_downvotes_at_request  \\\n",
       "count                                   4040.000000   \n",
       "mean                                    1160.079950   \n",
       "std                                     3718.365515   \n",
       "min                                     -173.000000   \n",
       "25%                                        3.000000   \n",
       "50%                                      174.500000   \n",
       "75%                                     1163.750000   \n",
       "max                                   155010.000000   \n",
       "\n",
       "       requester_upvotes_minus_downvotes_at_retrieval  \\\n",
       "count                                     4040.000000   \n",
       "mean                                      2720.342079   \n",
       "std                                       6264.378878   \n",
       "min                                       -173.000000   \n",
       "25%                                         22.000000   \n",
       "50%                                        708.000000   \n",
       "75%                                       3304.000000   \n",
       "max                                     223708.000000   \n",
       "\n",
       "       requester_upvotes_plus_downvotes_at_request  \\\n",
       "count                                 4.040000e+03   \n",
       "mean                                  3.743236e+03   \n",
       "std                                   2.583816e+04   \n",
       "min                                   0.000000e+00   \n",
       "25%                                   9.000000e+00   \n",
       "50%                                   3.510000e+02   \n",
       "75%                                   2.303750e+03   \n",
       "max                                   1.286864e+06   \n",
       "\n",
       "       requester_upvotes_plus_downvotes_at_retrieval  \\\n",
       "count                                   4.040000e+03   \n",
       "mean                                    7.788069e+03   \n",
       "std                                     3.916741e+04   \n",
       "min                                     0.000000e+00   \n",
       "25%                                     5.200000e+01   \n",
       "50%                                     1.283500e+03   \n",
       "75%                                     6.829000e+03   \n",
       "max                                     2.046482e+06   \n",
       "\n",
       "       unix_timestamp_of_request  unix_timestamp_of_request_utc  \n",
       "count               4.040000e+03                   4.040000e+03  \n",
       "mean                1.342829e+09                   1.342826e+09  \n",
       "std                 2.333057e+07                   2.332989e+07  \n",
       "min                 1.297723e+09                   1.297723e+09  \n",
       "25%                 1.320469e+09                   1.320466e+09  \n",
       "50%                 1.342565e+09                   1.342561e+09  \n",
       "75%                 1.364618e+09                   1.364614e+09  \n",
       "max                 1.381552e+09                   1.381523e+09  \n",
       "\n",
       "[8 rows x 22 columns]"
      ]
     },
     "execution_count": 5,
     "metadata": {},
     "output_type": "execute_result"
    }
   ],
   "source": [
    "train_df.describe()"
   ]
  },
  {
   "cell_type": "code",
   "execution_count": 6,
   "metadata": {},
   "outputs": [],
   "source": [
    "train_df['upvotes'] = (train_df['requester_upvotes_minus_downvotes_at_request'] + \n",
    "                       train_df['requester_upvotes_plus_downvotes_at_request'])/2\n",
    "train_df['downvotes'] = train_df['requester_upvotes_plus_downvotes_at_request'] - train_df['upvotes']\n",
    "train_df['title_length'] = train_df.request_title.str.len()\n",
    "train_df['request_length'] = train_df.request_text.str.len()\n",
    "train_df['request_edit_length'] = train_df.request_text_edit_aware.str.len()"
   ]
  },
  {
   "cell_type": "code",
   "execution_count": 18,
   "metadata": {},
   "outputs": [
    {
     "data": {
      "text/plain": [
       "<matplotlib.axes._subplots.AxesSubplot at 0x2170d9b25c8>"
      ]
     },
     "execution_count": 18,
     "metadata": {},
     "output_type": "execute_result"
    },
    {
     "data": {
      "image/png": "[encoded data removed]",
      "text/plain": [
       "<Figure size 576x432 with 1 Axes>"
      ]
     },
     "metadata": {
      "needs_background": "light"
     },
     "output_type": "display_data"
    },
    {
     "data": {
      "image/png": "[encoded data removed]",
      "text/plain": [
       "<Figure size 576x432 with 1 Axes>"
      ]
     },
     "metadata": {
      "needs_background": "light"
     },
     "output_type": "display_data"
    }
   ],
   "source": [
    "plt.figure(figsize=(8,6))\n",
    "plt.hist(train_df['requester_account_age_in_days_at_request']/365.25, bins = 20, alpha = 0.5, \n",
    "         label = \"requester account age at request\" )\n",
    "plt.hist(train_df['requester_account_age_in_days_at_retrieval']/365.25, bins = 20, alpha = 0.5, \n",
    "         label = \"requester account age at retrieval\" )\n",
    "plt.xlabel(\"Age on Reddit in yrs\")\n",
    "plt.ylabel(\"Count\")\n",
    "plt.title(\"Histogram of Requester Counts vs Ages on Reddit\")\n",
    "plt.legend(loc='upper right')\n",
    "\n",
    "plt.figure(figsize=(8,6))\n",
    "train_df['requester_received_pizza'].value_counts().plot(kind='bar', title='requester received pizza')"
   ]
  },
  {
   "cell_type": "code",
   "execution_count": 15,
   "metadata": {},
   "outputs": [
    {
     "data": {
      "text/plain": [
       "<Figure size 432x432 with 0 Axes>"
      ]
     },
     "metadata": {},
     "output_type": "display_data"
    },
    {
     "data": {
      "image/png": "[encoded data removed]",
      "text/plain": [
       "<Figure size 432x288 with 1 Axes>"
      ]
     },
     "metadata": {
      "needs_background": "light"
     },
     "output_type": "display_data"
    },
    {
     "data": {
      "text/plain": [
       "<Figure size 432x432 with 0 Axes>"
      ]
     },
     "metadata": {},
     "output_type": "display_data"
    },
    {
     "data": {
      "image/png": "[encoded data removed]",
      "text/plain": [
       "<Figure size 432x288 with 1 Axes>"
      ]
     },
     "metadata": {
      "needs_background": "light"
     },
     "output_type": "display_data"
    },
    {
     "data": {
      "text/plain": [
       "<Figure size 432x432 with 0 Axes>"
      ]
     },
     "metadata": {},
     "output_type": "display_data"
    },
    {
     "data": {
      "image/png": "[encoded data removed]",
      "text/plain": [
       "<Figure size 432x288 with 1 Axes>"
      ]
     },
     "metadata": {
      "needs_background": "light"
     },
     "output_type": "display_data"
    },
    {
     "data": {
      "text/plain": [
       "<Figure size 432x432 with 0 Axes>"
      ]
     },
     "metadata": {},
     "output_type": "display_data"
    },
    {
     "data": {
      "image/png": "[encoded data removed]",
      "text/plain": [
       "<Figure size 432x288 with 1 Axes>"
      ]
     },
     "metadata": {
      "needs_background": "light"
     },
     "output_type": "display_data"
    },
    {
     "data": {
      "text/plain": [
       "<Figure size 432x432 with 0 Axes>"
      ]
     },
     "metadata": {},
     "output_type": "display_data"
    },
    {
     "data": {
      "image/png": "[encoded data removed]",
      "text/plain": [
       "<Figure size 432x288 with 1 Axes>"
      ]
     },
     "metadata": {
      "needs_background": "light"
     },
     "output_type": "display_data"
    },
    {
     "data": {
      "text/plain": [
       "<Figure size 432x432 with 0 Axes>"
      ]
     },
     "metadata": {},
     "output_type": "display_data"
    },
    {
     "data": {
      "image/png": "[encoded data removed]",
      "text/plain": [
       "<Figure size 432x288 with 1 Axes>"
      ]
     },
     "metadata": {
      "needs_background": "light"
     },
     "output_type": "display_data"
    },
    {
     "data": {
      "text/plain": [
       "<Figure size 432x432 with 0 Axes>"
      ]
     },
     "metadata": {},
     "output_type": "display_data"
    },
    {
     "data": {
      "image/png": "[encoded data removed]",
      "text/plain": [
       "<Figure size 432x288 with 1 Axes>"
      ]
     },
     "metadata": {
      "needs_background": "light"
     },
     "output_type": "display_data"
    },
    {
     "data": {
      "text/plain": [
       "<Figure size 432x432 with 0 Axes>"
      ]
     },
     "metadata": {},
     "output_type": "display_data"
    },
    {
     "data": {
      "image/png": "[encoded data removed]",
      "text/plain": [
       "<Figure size 432x288 with 1 Axes>"
      ]
     },
     "metadata": {
      "needs_background": "light"
     },
     "output_type": "display_data"
    },
    {
     "data": {
      "text/plain": [
       "<Figure size 432x432 with 0 Axes>"
      ]
     },
     "metadata": {},
     "output_type": "display_data"
    },
    {
     "data": {
      "image/png": "[encoded data removed]",
      "text/plain": [
       "<Figure size 432x288 with 1 Axes>"
      ]
     },
     "metadata": {
      "needs_background": "light"
     },
     "output_type": "display_data"
    },
    {
     "data": {
      "text/plain": [
       "<Figure size 432x432 with 0 Axes>"
      ]
     },
     "metadata": {},
     "output_type": "display_data"
    },
    {
     "data": {
      "image/png": "[encoded data removed]",
      "text/plain": [
       "<Figure size 432x288 with 1 Axes>"
      ]
     },
     "metadata": {
      "needs_background": "light"
     },
     "output_type": "display_data"
    }
   ],
   "source": [
    "boxplot_df = train_df[['requester_received_pizza', 'requester_number_of_comments_at_request',\n",
    "                      'requester_number_of_comments_in_raop_at_request',\n",
    "                      'requester_number_of_posts_at_request', 'requester_number_of_posts_on_raop_at_request',\n",
    "                      'requester_number_of_subreddits_at_request', \n",
    "                      'upvotes', 'downvotes', 'title_length', 'request_length', 'request_edit_length']]\n",
    "# axes = boxplot_df.boxplot(by='requester_received_pizza', figsize=(16,16), return_type='axes')\n",
    "# for ax in axes.values():\n",
    "#     ax.set_ylim(ylim)\n",
    "# plt.show()\n",
    "#plt.figure(figsize=(16,16))\n",
    "for column in boxplot_df:\n",
    "    if column != 'requester_received_pizza':\n",
    "        plt.figure(figsize=(6,6))\n",
    "        boxplot_df.boxplot([column], by='requester_received_pizza')\n",
    "        "
   ]
  },
  {
   "cell_type": "code",
   "execution_count": 9,
   "metadata": {},
   "outputs": [
    {
     "name": "stdout",
     "output_type": "stream",
     "text": [
      "(REQUEST) ASKING FOR PIZZA FOR ME AND DAUGHTER.\n",
      "[REQUEST] I have eaten ramen 3 meals a day for the last 5 days, can someone please be mind enough to lend a guy some pepperoni? \n",
      "[REQUEST] Sunderland, UK. Have to spend all my money repairing my bike for work, will forward on Friday when I get paid.\n",
      "[Request Fl, USA] Celebrating early high school graduation.\n",
      "[Request] Darwin, Australia, broke uni student, havent eaten for 3 days :(\n",
      "[Request] I've never felt like anything terrible enough is happening in my life to feel like I deserve a pizza over some of the other people that request here.\n",
      "[request] College guy, pretty hungry. Would love a pizza for tonight.\n",
      "Request: No power/Irene\n",
      "[Request] No luck so far with a job hunt. Would love something warm for dinner!\n",
      "(Request) Pizza in Long Beach?\n",
      "[REQUEST] in Harrisonburg VA (JMU), student pulling an all nighter for final tomorrow\n",
      "[Request] Today has sucked\n",
      "[Request] struggling college student with $1.58 to my name\n",
      "[Request] My boyfriend's birthday has been a clusterfuck. Can someone help me make it better? \n",
      "[Request] Virginia, USA- Lost (low-paying) job yesterday due to the chronic stress fracture in my foot\n",
      "[Request] Fayetteville, AR - need a pizza pick-me-up\n",
      "[REQUEST] Orange county, california. I'm pregnant and my ultrasound is tomorrow I could really use a pizza!\n",
      "[REQUEST]Just moved in and debit card isn't here yet,  not starving but broke\n",
      "[Request] Hi RAOP, I do not have a financial crisis but I'm having a terrible week and it seems like when it can't get any worse, it does. I would really like to enjoy a Pizza today! [66]\n",
      "[Request] Jobless, broke, getting sued for $50,000, depressed and anxiety levels through the roof. Been craving pizza but can't afford it.\n",
      "[Request] Just moved to Idaho. This county has a no franchise law. Haven't started working yet and I am desperate for some pizza.\n",
      "[Request] 13 year old girl wants a pizza\n",
      "[request] northern virginia: quit my job, home alone with no money or food, $10 away from a free pizza\n",
      "[Request] 3 college kids at work looking for a little pizza love\n",
      "[Request] Chicago, IL Just moved,  \n",
      "an empty apartment and empty \n",
      "stomachs!\n",
      "[REQUEST] Just had my wisdom teeth out earlier this week, and moving back into the dorms\n",
      "[Request] Can anyone help?\n",
      "[Request] I know everyone is mostly going to give to boston but my gaybro and I are broke on a friday night all slone.\n",
      "[Request]Boyfriend says I'm on my own for dinner with no money in the bank until Friday. Anybody willing to buy me dinner?\n",
      "[REQUEST] Not looking for \"free\" pizza, just a quick pay it forward until Monday. (Pittsburgh)\n",
      "[REQUEST]Alone on a Saturday night, will make you a cool drawing, or send kitty pics! (MA/US)\n",
      "[Request] Chicago Area, Illinois It's my birthday and all I really want is some pizza  \n",
      "[REQUEST] Something to keep me going while I look for a second jorb.\n",
      "{Request} If somebody could provide the cheapest pizza possible in the area for me and a hungry friend.\n",
      "[Request] I'm a terrible cook and would love a pizza\n",
      "[Request] Drunk, Playing Starcraft II, want pizza\n",
      "[Request] Bank account frozen-no food in the house-spent last bit of money on formula for my son.\n",
      "[request] Student in Austin would be grateful for dinner\n",
      "[request] South Florida. Parents are out for the week and the house is lacking a vital component. Pizza.\n",
      "[REQUEST] My campus' dining closed down. \n",
      "[Request]- Oklahoma, hurting for the sauce man...\n",
      "[Request] Too broke for much of anything. Can't even do what makes me happy.\n",
      "[Request] Houston, Tx. Finally made the decision to go to college after taking a year off. Just spent all of my money on books and tuition classes..\n",
      "[REQUEST] Wondering if someone will trade a pizza for paypal $. My friend and I are travelling, both completely broke till we can hit a bank tomorrow, but I have some cash in my paypal.\n",
      "[request] Sacramento USA - Girlfriend is broke, I'm broke, she's sick and hungry.\n",
      "[REQUEST] The cabinet, like our bellies, is empty. Pizza is our savior. Newport News, VA\n",
      "[Request] Mount Pleasant MI. Up all night with 2 sick kids. Could use a pizza.\n",
      "Request - pizza for three\n",
      "[Request] Louisville, KY - Money's a little tight right now and I'm really craving a pizza\n",
      "[request] Pennsylvania, really could use a pizza\n",
      "[Request] Just finished 10hrs @ work and now have to Study\n",
      "[Request]I'm babysitting my sister tonight and we've both been eating pb&amp;js for the last couple months frequently. There's nothing to eat here. Could you help us out?\n",
      "[request] Random acts of pizza\n",
      "[Request] (UK) Challenge me!\n",
      "[Request] London, Canada. It'd be really nice to have a hot meal delivered.\n",
      "[request] Unemployed but looking, nothing but a zucchini and condiments in the fridge. Atlanta, GA area\n",
      "[request]  broke college student, really miss pizza (Montana)\n",
      "[Request] Spent all my money trying to fix my car, in desperate need of a Pizza\n",
      "[Request] Had to pay rent, only have ramen and rice to last until Wednesday, will pay it forward. [NW Ohio]\n",
      "[REQUEST] Will Pay it forward by the end of this week if not sooner San Antonio, Texas\n",
      "[Request] Just got done with a 65hr work week, don't feel like cooking, I've given before. Would anyone buy me a pizza? (Springfield Ohio)\n",
      "I could really use a pizza right now. [Request]\n",
      "Request-hungry family of 5 and paycheckwon't be in til monday.\n",
      "[Request] Swedish guy that wants to omnom some pizza\n",
      "[REQUEST] separated from the military in august, in between jobs. Could really use a bite to eat.\n",
      "[REQUEST] Virginia Beach...The four of us ran the Rock N Roll Half Marathon\n",
      "[Request] S/O and I have a Norwegian friend visiting us in grad school and pretty light funds. Not starving, but not buying her the american pizza experience either.\n",
      "[request] Syracuse, NY.  Need to get through the next 9 days with $12 for food and gas...\n",
      "[Request] Just having a bad week\n",
      "[Request] for a pizza (duh)\n",
      "[Request][US, IL] My current plans for my feast to watch the Blackhawks win the Stanley Cup consists of Ramen and frozen veggies. Would love a warm pie!\n",
      "[REQUEST] This has been the worst day of my life, A pizza would be a nice band-aid. St Pete, FL\n",
      "[Request] No Money Left To Our Names... Needing Dinner Ready For Fiancée To Come Home To From Work...Please Help If You Can!\n",
      "[Request] CA- Make 19 first graders happy!\n",
      "Request\n",
      "[REQUEST] Depressed Californian Locked in his room looking for dinner ):\n",
      "[Request] Long time lurker, plenty of sob stories but none that need to be shared. I know it's hard to get a pizza randomly but I can do things that many people might be afraid to do. I'm hoping for a slice.\n",
      "(request) Family wanting some pizza please\n",
      "[Request] Richmond, VA. Just paid rent, now I'm out of money and hungry!\n",
      "[REQUEST] First time requester. Would like a pizza. Will repay when possible.\n",
      "[Request] Central Massachusetts, have $2 to my name until Thursday, very hungry :/\n",
      "[Request] Homeless student in need of food to hold him over for a bit\n",
      "[REQUEST] We're running out of boxes of spaghetti to eat :(\n",
      "Request: Hungry in Madison, WI. Can someone please help? \n",
      "[Request] Cousin screwed me over (accidentally) and cost me the last of my money for the week.\n",
      "[Request] N. California, 2 young men who love pizza.\n",
      "[Request] a pizza ,, help?? get me a  E- giftcard or something please... North Jersey..Passaic County\n",
      "[REQUEST] The 2 1/2 month old is eating but we are not!\n",
      "[REQUEST] No food, no car, and an empty apartment building...\n",
      "[Request] Having a depressing month, would be grateful if someone sent me pizza so I can eat something other than rice and spaghetti \n",
      "[Request] OK- mama stuck at home with the baby; would love some pizza for lunch!\n",
      "[Request] Pizza in Sacramento! The long campaign of SEA troll-slaying is over, tonight my family would FEAST!\n",
      "[request] Bellevue, Ohio: Disabled brother and 5 kids could use a smile\n",
      "[Request] Spent the last of my money paying the Veterinarian for my Kitten, no food for the rest of the week \n",
      "[Request] Broke as a joke, and it's only Monday...\n",
      "[REQUEST] No money, no food for my family... I would be forever grateful if someone could help us tonight.\n",
      "[REQUEST] No sob story, just craving a pizza. Elkin, North Carolina\n",
      "[REQUEST] Helping my friends save some dough by sending them some dough...\n",
      "[request] just want to celebrate my new job. \n",
      "[request] hungry and broke some pizza would be nice\n",
      "Out of money until the first of the month.  Used my last £10 to buy loads of noodles for me and my girlfriend!  I've not been this skint since I was 19 years old, and it's really trying.\n",
      "\n",
      "I live in Sheffield, any offers would be massively appreciated!  Thanks to all you RAOPers :D\n",
      "i just lost my job tonight due to not having a completely open flexibility because im taking 18 credit hours this summer. only reason im even doing that is to meet my goal of getting my AA in less than a year after graduating highschool. im really hungry and have no money. studying for exams, and depressed. please send me a pizza to make me happy and when i get some money i'll paint you something and send it back as a thanks. &lt;3\n",
      "\n",
      "\n",
      "[It's not even bunny shaped.](http://i.imgur.com/7x4O7.jpg)\n",
      "Hello fellow Redditors! I am a cheerleader at my university and I moved on campus a week early for practices. I brought very little food and the cafeteria is not open yet. I would really appreciate it if a Redditor would be so kind as to treat me to a pizza. \n",
      "I've been trying to get pregnant for a while. :) I finally am. My husband is on a business trip out of town, and I am craving a pizza! (: !! I have a papa johns close by ! Anyone that can help, I will send them a $5dollar subway gift card. It's not much, but right now It's all I can do. Along with the gift card I can edit photos. Papa Johns Carryout closes at 10 here, and they won't deliver to my address! Any help would be appreciated, I can also give the gift card number so you know there IS $5 dollars on card. \n",
      "I'm feeling pretty weak and hungry right now from donating blood at my school drive. A pizza would be AWWWWWESOME.\n",
      "Money is being wired to me as we speak, but it looks like it won't be here until tomorrow. My fridge will be empty for at least another day... Will write a true sob story, short story, persuasive essay, one-on-one written RP, play any of the co-op games on my Steam, draw anything to the best of my abilities, or do pretty much anything reasonable in return for a pizza.\n",
      "\n",
      "Request will expire tomorrow at 10am Eastern because I will no longer require help and I refuse to accept pizza when I am capable of purchasing it myself.\n",
      "\n",
      "I'm into equivalent exchange and karma, and I will put pizza in a less fortunate redditor's mouth if helped.\n",
      "As the title says. I start my first teaching job tomorrow! But until my first paycheck I don't have spending room for awesome things like pizza. I will gladly pass the favor along come first paycheck!\n",
      "\n",
      "\n",
      "I live in the UK, and my brother has recently moved to Dubai. I recently made a facebook post saying I was getting pizza, and asking who else wanted some. My brother said he was in, and I intend to fulfil his request. I did try to get him the pizza myself, but I couldn't find any pizza places in Dubai that did online ordering, and I couldn't call them because I don't speak Arabic. Help me, Random Acts of Pizza, you're my only hope!\n",
      "My mother and father's business of 20 years tanked last year and they've been struggling ever since. I live with my mother, and my two younger sisters in house that we can no longer afford to keep. We're moving into my grandparents house next weekend. Apart from my mother's disability checks, I am my immediate family's only source of income. I work part-time and make about 100 bucks a week.   \n",
      "  \n",
      "If someone would be kind enough to hook us up with a pizza it would be much appreciated! :)\n"
     ]
    }
   ],
   "source": [
    "for i in train_df[\"request_title\"][700:800]:\n",
    "    print(i)\n",
    "for i in train_df[\"request_text_edit_aware\"][570:580]:\n",
    "    print(i) "
   ]
  },
  {
   "cell_type": "code",
   "execution_count": 30,
   "metadata": {},
   "outputs": [],
   "source": [
    "# Request includes an image\n",
    "image_count = re.compile(r'(imgur\\.com|\\.jpg)', re.IGNORECASE)\n",
    "images = train_df['request_text_edit_aware'].apply(lambda x: len(image_count.findall(x)))\n",
    "train_df['has_image'] = np.where(images > 0,1,0)\n",
    "train_df['ones'] = np.ones(len(train_df['has_image']))\n",
    "\n",
    "# Request title includes food-related words\n",
    "food = re.compile(r'(pizza|lunch|food|hungry|fridge|starve|starving|meal)', re.IGNORECASE)\n",
    "money = re.compile(r'(money|rent|pay|paid|broke|cash|dollar|poor|job)', re.IGNORECASE)\n",
    "title_has_food = train_df['request_title'].apply(lambda x: len(food.findall(x)))\n",
    "title_has_money = train_df['request_title'].apply(lambda x: len(money.findall(x)))\n",
    "train_df['title_has_food'] = np.where(title_has_food > 0,1,0)\n",
    "train_df['title_has_money'] = np.where(title_has_money > 0,1,0)"
   ]
  },
  {
   "cell_type": "code",
   "execution_count": 37,
   "metadata": {},
   "outputs": [
    {
     "data": {
      "image/png": "[encoded data removed]",
      "text/plain": [
       "<Figure size 432x288 with 1 Axes>"
      ]
     },
     "metadata": {
      "needs_background": "light"
     },
     "output_type": "display_data"
    },
    {
     "data": {
      "image/png": "[encoded data removed]",
      "text/plain": [
       "<Figure size 432x288 with 1 Axes>"
      ]
     },
     "metadata": {
      "needs_background": "light"
     },
     "output_type": "display_data"
    },
    {
     "data": {
      "image/png": "[encoded data removed]",
      "text/plain": [
       "<Figure size 432x288 with 1 Axes>"
      ]
     },
     "metadata": {
      "needs_background": "light"
     },
     "output_type": "display_data"
    }
   ],
   "source": [
    "transform_bp_df = train_df[['requester_received_pizza', 'has_image', 'ones', 'title_has_food', 'title_has_money']]\n",
    "\n",
    "tps = transform_bp_df.pivot_table(values=['ones'], \n",
    "                      index='requester_received_pizza',\n",
    "                      columns='has_image',\n",
    "                      aggfunc='count')\n",
    "\n",
    "tps = tps.div(tps.sum(1), axis=0)\n",
    "tps.plot(kind='bar', stacked=True)\n",
    "plt.title('% of request text has image(s)')\n",
    "plt.legend(['has image', 'no image'], loc='upper right')\n",
    "plt.show()\n",
    "\n",
    "tps = transform_bp_df.pivot_table(values=['ones'], \n",
    "                      index='requester_received_pizza',\n",
    "                      columns='title_has_food',\n",
    "                      aggfunc='count')\n",
    "\n",
    "tps = tps.div(tps.sum(1), axis=0)\n",
    "tps.plot(kind='bar', stacked=True)\n",
    "plt.title('% of request title has food keywords')\n",
    "plt.legend(['has food keywords', 'no keywords'], loc='upper right')\n",
    "plt.show()\n",
    "\n",
    "tps = transform_bp_df.pivot_table(values=['ones'], \n",
    "                      index='requester_received_pizza',\n",
    "                      columns='title_has_money',\n",
    "                      aggfunc='count')\n",
    "\n",
    "tps = tps.div(tps.sum(1), axis=0)\n",
    "tps.plot(kind='bar', stacked=True)\n",
    "plt.title('% of request title has money keywords')\n",
    "plt.legend(['has money keywords', 'no keywords'], loc='upper right')\n",
    "plt.show()"
   ]
  },
  {
   "cell_type": "code",
   "execution_count": 32,
   "metadata": {},
   "outputs": [
    {
     "name": "stdout",
     "output_type": "stream",
     "text": [
      "[0 1]\n"
     ]
    }
   ],
   "source": []
  },
  {
   "cell_type": "code",
   "execution_count": null,
   "metadata": {},
   "outputs": [],
   "source": []
  }
 ],
 "metadata": {
  "kernelspec": {
   "display_name": "Python 3",
   "language": "python",
   "name": "python3"
  },
  "language_info": {
   "codemirror_mode": {
    "name": "ipython",
    "version": 3
   },
   "file_extension": ".py",
   "mimetype": "text/x-python",
   "name": "python",
   "nbconvert_exporter": "python",
   "pygments_lexer": "ipython3",
   "version": "3.7.4"
  }
 },
 "nbformat": 4,
 "nbformat_minor": 2
}
